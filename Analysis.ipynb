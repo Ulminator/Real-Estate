{
 "cells": [
  {
   "cell_type": "code",
   "execution_count": 1,
   "metadata": {
    "collapsed": true
   },
   "outputs": [],
   "source": [
    "import pandas as pd\n",
    "import numpy as np\n",
    "import matplotlib.pyplot as plt\n",
    "%matplotlib inline"
   ]
  },
  {
   "cell_type": "code",
   "execution_count": 2,
   "metadata": {
    "collapsed": false
   },
   "outputs": [],
   "source": [
    "df = pd.read_excel(\"1.Excel Exercises.xls\", sheetname=\"Excel Data Test - Raw Data\")"
   ]
  },
  {
   "cell_type": "markdown",
   "metadata": {},
   "source": [
    "The data presented for this portion of the test is on the tab labeled \"Excel Data Test - Raw Data\" and represents responses from individual tenants in a portfolio. Each row represents one tenant and is assigned a distinct \"Tenant ID\" number (column A). Each tenant is associated with various demographic factors such as \"Property Name,\" \"Regional Director,\" \"Property Type,\" etc. Each tenant answered a series of questions and rated their satisfaction on a 1-5 scale (1=poor, 5=excellent). The first question answered is \"Overall Satisfaction\" in column H. There are some questions on a different scale; in those cases, the answers are in text format.\t\t\t\t\t\t\t\t\t"
   ]
  },
  {
   "cell_type": "code",
   "execution_count": 3,
   "metadata": {
    "collapsed": false
   },
   "outputs": [
    {
     "name": "stdout",
     "output_type": "stream",
     "text": [
      "Columns that have no null values:\n"
     ]
    },
    {
     "data": {
      "text/plain": [
       "['Tenant ID #',\n",
       " 'Property Name',\n",
       " 'Asset Manager',\n",
       " 'Property Type',\n",
       " 'Company Name',\n",
       " 'Square Footage']"
      ]
     },
     "execution_count": 3,
     "metadata": {},
     "output_type": "execute_result"
    }
   ],
   "source": [
    "print('Columns that have no null values:')\n",
    "[x for x in df.isnull().any()[df.isnull().any()==False].index]"
   ]
  },
  {
   "cell_type": "code",
   "execution_count": 4,
   "metadata": {
    "collapsed": false
   },
   "outputs": [
    {
     "name": "stdout",
     "output_type": "stream",
     "text": [
      "Dimensions of the dataset:\n"
     ]
    },
    {
     "data": {
      "text/plain": [
       "(1056, 42)"
      ]
     },
     "execution_count": 4,
     "metadata": {},
     "output_type": "execute_result"
    }
   ],
   "source": [
    "print('Dimensions of the dataset:')\n",
    "df.shape"
   ]
  },
  {
   "cell_type": "code",
   "execution_count": 5,
   "metadata": {
    "collapsed": false,
    "scrolled": false
   },
   "outputs": [
    {
     "name": "stdout",
     "output_type": "stream",
     "text": [
      "First three rows of the dataset:\n"
     ]
    },
    {
     "data": {
      "text/html": [
       "<div>\n",
       "<table border=\"1\" class=\"dataframe\">\n",
       "  <thead>\n",
       "    <tr style=\"text-align: right;\">\n",
       "      <th></th>\n",
       "      <th>Tenant ID #</th>\n",
       "      <th>Property Name</th>\n",
       "      <th>Asset Manager</th>\n",
       "      <th>Property Type</th>\n",
       "      <th>Company Name</th>\n",
       "      <th>Square Footage</th>\n",
       "      <th>Lease Expiration</th>\n",
       "      <th>Overall satisfaction</th>\n",
       "      <th>Overall satisfaction with management</th>\n",
       "      <th>Professionalism / courtesy</th>\n",
       "      <th>...</th>\n",
       "      <th>Column spacing</th>\n",
       "      <th>Loading area / docks</th>\n",
       "      <th>Ratio of dock doors to square footage</th>\n",
       "      <th>Truck maneuverability</th>\n",
       "      <th>\"Green\" Importance</th>\n",
       "      <th>Leasing Process Overall Satisfaction</th>\n",
       "      <th>Leasing staff - professionalism / courtesy</th>\n",
       "      <th>Leasing staff - responsiveness</th>\n",
       "      <th>Renewal Decision</th>\n",
       "      <th>Renewal Decision Factor</th>\n",
       "    </tr>\n",
       "  </thead>\n",
       "  <tbody>\n",
       "    <tr>\n",
       "      <th>0</th>\n",
       "      <td>326950</td>\n",
       "      <td>10, 25, 27 Otis Street</td>\n",
       "      <td>Jonathan Smith</td>\n",
       "      <td>Industrial</td>\n",
       "      <td>Rand Whitney</td>\n",
       "      <td>73710</td>\n",
       "      <td>2009-11-30</td>\n",
       "      <td>5.0</td>\n",
       "      <td>5.0</td>\n",
       "      <td>5.0</td>\n",
       "      <td>...</td>\n",
       "      <td>3.0</td>\n",
       "      <td>4.0</td>\n",
       "      <td>5.0</td>\n",
       "      <td>5.0</td>\n",
       "      <td>Neutral</td>\n",
       "      <td>4.0</td>\n",
       "      <td>4.0</td>\n",
       "      <td>4.0</td>\n",
       "      <td>Probably would</td>\n",
       "      <td>Price</td>\n",
       "    </tr>\n",
       "    <tr>\n",
       "      <th>1</th>\n",
       "      <td>326951</td>\n",
       "      <td>10, 25, 27 Otis Street</td>\n",
       "      <td>Jonathan Smith</td>\n",
       "      <td>Industrial</td>\n",
       "      <td>Maine's Paper</td>\n",
       "      <td>106964</td>\n",
       "      <td>2011-10-31</td>\n",
       "      <td>4.0</td>\n",
       "      <td>4.0</td>\n",
       "      <td>4.0</td>\n",
       "      <td>...</td>\n",
       "      <td>4.0</td>\n",
       "      <td>4.0</td>\n",
       "      <td>4.0</td>\n",
       "      <td>1.0</td>\n",
       "      <td>Neutral</td>\n",
       "      <td>4.0</td>\n",
       "      <td>4.0</td>\n",
       "      <td>4.0</td>\n",
       "      <td>Unsure</td>\n",
       "      <td>Building maintenance</td>\n",
       "    </tr>\n",
       "    <tr>\n",
       "      <th>2</th>\n",
       "      <td>326952</td>\n",
       "      <td>10, 25, 27 Otis Street</td>\n",
       "      <td>Jonathan Smith</td>\n",
       "      <td>Industrial</td>\n",
       "      <td>EXM (Eurobex)</td>\n",
       "      <td>19971</td>\n",
       "      <td>2010-09-30</td>\n",
       "      <td>4.0</td>\n",
       "      <td>4.0</td>\n",
       "      <td>4.0</td>\n",
       "      <td>...</td>\n",
       "      <td>4.0</td>\n",
       "      <td>4.0</td>\n",
       "      <td>4.0</td>\n",
       "      <td>4.0</td>\n",
       "      <td>Neutral</td>\n",
       "      <td>NaN</td>\n",
       "      <td>NaN</td>\n",
       "      <td>NaN</td>\n",
       "      <td>Unsure</td>\n",
       "      <td>Corporate decision</td>\n",
       "    </tr>\n",
       "  </tbody>\n",
       "</table>\n",
       "<p>3 rows × 42 columns</p>\n",
       "</div>"
      ],
      "text/plain": [
       "   Tenant ID #           Property Name   Asset Manager Property Type  \\\n",
       "0       326950  10, 25, 27 Otis Street  Jonathan Smith    Industrial   \n",
       "1       326951  10, 25, 27 Otis Street  Jonathan Smith    Industrial   \n",
       "2       326952  10, 25, 27 Otis Street  Jonathan Smith    Industrial   \n",
       "\n",
       "    Company Name  Square Footage Lease Expiration  Overall satisfaction  \\\n",
       "0   Rand Whitney           73710       2009-11-30                   5.0   \n",
       "1  Maine's Paper          106964       2011-10-31                   4.0   \n",
       "2  EXM (Eurobex)           19971       2010-09-30                   4.0   \n",
       "\n",
       "   Overall satisfaction with management  Professionalism / courtesy  \\\n",
       "0                                   5.0                         5.0   \n",
       "1                                   4.0                         4.0   \n",
       "2                                   4.0                         4.0   \n",
       "\n",
       "            ...             Column spacing Loading area / docks  \\\n",
       "0           ...                        3.0                  4.0   \n",
       "1           ...                        4.0                  4.0   \n",
       "2           ...                        4.0                  4.0   \n",
       "\n",
       "  Ratio of dock doors to square footage Truck maneuverability  \\\n",
       "0                                   5.0                   5.0   \n",
       "1                                   4.0                   1.0   \n",
       "2                                   4.0                   4.0   \n",
       "\n",
       "  \"Green\" Importance Leasing Process Overall Satisfaction  \\\n",
       "0            Neutral                                  4.0   \n",
       "1            Neutral                                  4.0   \n",
       "2            Neutral                                  NaN   \n",
       "\n",
       "   Leasing staff - professionalism / courtesy  Leasing staff - responsiveness  \\\n",
       "0                                         4.0                             4.0   \n",
       "1                                         4.0                             4.0   \n",
       "2                                         NaN                             NaN   \n",
       "\n",
       "   Renewal Decision  Renewal Decision Factor  \n",
       "0    Probably would                    Price  \n",
       "1            Unsure     Building maintenance  \n",
       "2            Unsure       Corporate decision  \n",
       "\n",
       "[3 rows x 42 columns]"
      ]
     },
     "execution_count": 5,
     "metadata": {},
     "output_type": "execute_result"
    }
   ],
   "source": [
    "print('First three rows of the dataset:')\n",
    "df.head(3)"
   ]
  },
  {
   "cell_type": "markdown",
   "metadata": {},
   "source": [
    "# \"1a. Create a table showing the distribution (percentages) of responses for \"\"Renewal Intentions\"\" with four rows (one row for each \"\"property type\"\" and a row summarizing all respondents). Include a column for each answer option, as well as one that groups the percentage of tenants who are likely to renew (respondents who selected \"\"probably would\"\" or \"\"definitely would\"\")."
   ]
  },
  {
   "cell_type": "code",
   "execution_count": 6,
   "metadata": {
    "collapsed": false
   },
   "outputs": [
    {
     "name": "stdout",
     "output_type": "stream",
     "text": [
      "Distinct property types:\n"
     ]
    },
    {
     "data": {
      "text/plain": [
       "['Industrial', 'Retail', 'Office']"
      ]
     },
     "execution_count": 6,
     "metadata": {},
     "output_type": "execute_result"
    }
   ],
   "source": [
    "print('Distinct property types:')\n",
    "[x for x in df['Property Type'].unique()]"
   ]
  },
  {
   "cell_type": "code",
   "execution_count": 7,
   "metadata": {
    "collapsed": false
   },
   "outputs": [
    {
     "name": "stdout",
     "output_type": "stream",
     "text": [
      "Distinct renewal decisions:\n"
     ]
    },
    {
     "data": {
      "text/plain": [
       "['Probably would',\n",
       " 'Unsure',\n",
       " 'Probably would not',\n",
       " nan,\n",
       " 'Definitely would',\n",
       " 'Definitely would not']"
      ]
     },
     "execution_count": 7,
     "metadata": {},
     "output_type": "execute_result"
    }
   ],
   "source": [
    "print('Distinct renewal decisions:')\n",
    "[x for x in df['Renewal Decision'].unique()]"
   ]
  },
  {
   "cell_type": "markdown",
   "metadata": {},
   "source": [
    "Here I group by Property Type and Renewal Decision and obtain a count of Tenant ID #'s to get a count of the number of entries."
   ]
  },
  {
   "cell_type": "code",
   "execution_count": 8,
   "metadata": {
    "collapsed": false
   },
   "outputs": [
    {
     "data": {
      "text/html": [
       "<div>\n",
       "<table border=\"1\" class=\"dataframe\">\n",
       "  <thead>\n",
       "    <tr style=\"text-align: right;\">\n",
       "      <th></th>\n",
       "      <th>Property Type</th>\n",
       "      <th>Renewal Decision</th>\n",
       "      <th>Frequency Counts</th>\n",
       "    </tr>\n",
       "  </thead>\n",
       "  <tbody>\n",
       "    <tr>\n",
       "      <th>0</th>\n",
       "      <td>Industrial</td>\n",
       "      <td>Definitely would</td>\n",
       "      <td>22</td>\n",
       "    </tr>\n",
       "    <tr>\n",
       "      <th>1</th>\n",
       "      <td>Industrial</td>\n",
       "      <td>Definitely would not</td>\n",
       "      <td>9</td>\n",
       "    </tr>\n",
       "    <tr>\n",
       "      <th>2</th>\n",
       "      <td>Industrial</td>\n",
       "      <td>Probably would</td>\n",
       "      <td>98</td>\n",
       "    </tr>\n",
       "    <tr>\n",
       "      <th>3</th>\n",
       "      <td>Industrial</td>\n",
       "      <td>Probably would not</td>\n",
       "      <td>14</td>\n",
       "    </tr>\n",
       "    <tr>\n",
       "      <th>4</th>\n",
       "      <td>Industrial</td>\n",
       "      <td>Unsure</td>\n",
       "      <td>89</td>\n",
       "    </tr>\n",
       "    <tr>\n",
       "      <th>5</th>\n",
       "      <td>Office</td>\n",
       "      <td>Definitely would</td>\n",
       "      <td>184</td>\n",
       "    </tr>\n",
       "    <tr>\n",
       "      <th>6</th>\n",
       "      <td>Office</td>\n",
       "      <td>Definitely would not</td>\n",
       "      <td>7</td>\n",
       "    </tr>\n",
       "    <tr>\n",
       "      <th>7</th>\n",
       "      <td>Office</td>\n",
       "      <td>Probably would</td>\n",
       "      <td>249</td>\n",
       "    </tr>\n",
       "    <tr>\n",
       "      <th>8</th>\n",
       "      <td>Office</td>\n",
       "      <td>Probably would not</td>\n",
       "      <td>7</td>\n",
       "    </tr>\n",
       "    <tr>\n",
       "      <th>9</th>\n",
       "      <td>Office</td>\n",
       "      <td>Unsure</td>\n",
       "      <td>42</td>\n",
       "    </tr>\n",
       "    <tr>\n",
       "      <th>10</th>\n",
       "      <td>Retail</td>\n",
       "      <td>Definitely would</td>\n",
       "      <td>42</td>\n",
       "    </tr>\n",
       "    <tr>\n",
       "      <th>11</th>\n",
       "      <td>Retail</td>\n",
       "      <td>Definitely would not</td>\n",
       "      <td>6</td>\n",
       "    </tr>\n",
       "    <tr>\n",
       "      <th>12</th>\n",
       "      <td>Retail</td>\n",
       "      <td>Probably would</td>\n",
       "      <td>67</td>\n",
       "    </tr>\n",
       "    <tr>\n",
       "      <th>13</th>\n",
       "      <td>Retail</td>\n",
       "      <td>Probably would not</td>\n",
       "      <td>18</td>\n",
       "    </tr>\n",
       "    <tr>\n",
       "      <th>14</th>\n",
       "      <td>Retail</td>\n",
       "      <td>Unsure</td>\n",
       "      <td>66</td>\n",
       "    </tr>\n",
       "  </tbody>\n",
       "</table>\n",
       "</div>"
      ],
      "text/plain": [
       "   Property Type      Renewal Decision  Frequency Counts\n",
       "0     Industrial      Definitely would                22\n",
       "1     Industrial  Definitely would not                 9\n",
       "2     Industrial        Probably would                98\n",
       "3     Industrial    Probably would not                14\n",
       "4     Industrial                Unsure                89\n",
       "5         Office      Definitely would               184\n",
       "6         Office  Definitely would not                 7\n",
       "7         Office        Probably would               249\n",
       "8         Office    Probably would not                 7\n",
       "9         Office                Unsure                42\n",
       "10        Retail      Definitely would                42\n",
       "11        Retail  Definitely would not                 6\n",
       "12        Retail        Probably would                67\n",
       "13        Retail    Probably would not                18\n",
       "14        Retail                Unsure                66"
      ]
     },
     "execution_count": 8,
     "metadata": {},
     "output_type": "execute_result"
    }
   ],
   "source": [
    "q1 = df.groupby(['Property Type', 'Renewal Decision'])['Tenant ID #'].agg({'Frequency Counts': 'count'}).reset_index()\n",
    "q1"
   ]
  },
  {
   "cell_type": "markdown",
   "metadata": {},
   "source": [
    "Next I group by Property Type and divide frequency counts by the sum of frequency counts for the property type it belongs to in addition to multiplying by 100."
   ]
  },
  {
   "cell_type": "code",
   "execution_count": 9,
   "metadata": {
    "collapsed": false
   },
   "outputs": [
    {
     "data": {
      "text/html": [
       "<div>\n",
       "<table border=\"1\" class=\"dataframe\">\n",
       "  <thead>\n",
       "    <tr style=\"text-align: right;\">\n",
       "      <th></th>\n",
       "      <th>Property Type</th>\n",
       "      <th>Renewal Decision</th>\n",
       "      <th>Frequency Counts</th>\n",
       "      <th>Percent</th>\n",
       "    </tr>\n",
       "  </thead>\n",
       "  <tbody>\n",
       "    <tr>\n",
       "      <th>0</th>\n",
       "      <td>Industrial</td>\n",
       "      <td>Definitely would</td>\n",
       "      <td>22</td>\n",
       "      <td>9.482759</td>\n",
       "    </tr>\n",
       "    <tr>\n",
       "      <th>1</th>\n",
       "      <td>Industrial</td>\n",
       "      <td>Definitely would not</td>\n",
       "      <td>9</td>\n",
       "      <td>3.879310</td>\n",
       "    </tr>\n",
       "    <tr>\n",
       "      <th>2</th>\n",
       "      <td>Industrial</td>\n",
       "      <td>Probably would</td>\n",
       "      <td>98</td>\n",
       "      <td>42.241379</td>\n",
       "    </tr>\n",
       "    <tr>\n",
       "      <th>3</th>\n",
       "      <td>Industrial</td>\n",
       "      <td>Probably would not</td>\n",
       "      <td>14</td>\n",
       "      <td>6.034483</td>\n",
       "    </tr>\n",
       "    <tr>\n",
       "      <th>4</th>\n",
       "      <td>Industrial</td>\n",
       "      <td>Unsure</td>\n",
       "      <td>89</td>\n",
       "      <td>38.362069</td>\n",
       "    </tr>\n",
       "    <tr>\n",
       "      <th>5</th>\n",
       "      <td>Office</td>\n",
       "      <td>Definitely would</td>\n",
       "      <td>184</td>\n",
       "      <td>37.627812</td>\n",
       "    </tr>\n",
       "    <tr>\n",
       "      <th>6</th>\n",
       "      <td>Office</td>\n",
       "      <td>Definitely would not</td>\n",
       "      <td>7</td>\n",
       "      <td>1.431493</td>\n",
       "    </tr>\n",
       "    <tr>\n",
       "      <th>7</th>\n",
       "      <td>Office</td>\n",
       "      <td>Probably would</td>\n",
       "      <td>249</td>\n",
       "      <td>50.920245</td>\n",
       "    </tr>\n",
       "    <tr>\n",
       "      <th>8</th>\n",
       "      <td>Office</td>\n",
       "      <td>Probably would not</td>\n",
       "      <td>7</td>\n",
       "      <td>1.431493</td>\n",
       "    </tr>\n",
       "    <tr>\n",
       "      <th>9</th>\n",
       "      <td>Office</td>\n",
       "      <td>Unsure</td>\n",
       "      <td>42</td>\n",
       "      <td>8.588957</td>\n",
       "    </tr>\n",
       "    <tr>\n",
       "      <th>10</th>\n",
       "      <td>Retail</td>\n",
       "      <td>Definitely would</td>\n",
       "      <td>42</td>\n",
       "      <td>21.105528</td>\n",
       "    </tr>\n",
       "    <tr>\n",
       "      <th>11</th>\n",
       "      <td>Retail</td>\n",
       "      <td>Definitely would not</td>\n",
       "      <td>6</td>\n",
       "      <td>3.015075</td>\n",
       "    </tr>\n",
       "    <tr>\n",
       "      <th>12</th>\n",
       "      <td>Retail</td>\n",
       "      <td>Probably would</td>\n",
       "      <td>67</td>\n",
       "      <td>33.668342</td>\n",
       "    </tr>\n",
       "    <tr>\n",
       "      <th>13</th>\n",
       "      <td>Retail</td>\n",
       "      <td>Probably would not</td>\n",
       "      <td>18</td>\n",
       "      <td>9.045226</td>\n",
       "    </tr>\n",
       "    <tr>\n",
       "      <th>14</th>\n",
       "      <td>Retail</td>\n",
       "      <td>Unsure</td>\n",
       "      <td>66</td>\n",
       "      <td>33.165829</td>\n",
       "    </tr>\n",
       "  </tbody>\n",
       "</table>\n",
       "</div>"
      ],
      "text/plain": [
       "   Property Type      Renewal Decision  Frequency Counts    Percent\n",
       "0     Industrial      Definitely would                22   9.482759\n",
       "1     Industrial  Definitely would not                 9   3.879310\n",
       "2     Industrial        Probably would                98  42.241379\n",
       "3     Industrial    Probably would not                14   6.034483\n",
       "4     Industrial                Unsure                89  38.362069\n",
       "5         Office      Definitely would               184  37.627812\n",
       "6         Office  Definitely would not                 7   1.431493\n",
       "7         Office        Probably would               249  50.920245\n",
       "8         Office    Probably would not                 7   1.431493\n",
       "9         Office                Unsure                42   8.588957\n",
       "10        Retail      Definitely would                42  21.105528\n",
       "11        Retail  Definitely would not                 6   3.015075\n",
       "12        Retail        Probably would                67  33.668342\n",
       "13        Retail    Probably would not                18   9.045226\n",
       "14        Retail                Unsure                66  33.165829"
      ]
     },
     "execution_count": 9,
     "metadata": {},
     "output_type": "execute_result"
    }
   ],
   "source": [
    "q1['Percent'] = q1.groupby('Property Type')['Frequency Counts'].apply(lambda x : 100*x/sum(x))\n",
    "q1"
   ]
  },
  {
   "cell_type": "code",
   "execution_count": 10,
   "metadata": {
    "collapsed": false,
    "scrolled": true
   },
   "outputs": [
    {
     "data": {
      "text/html": [
       "<div>\n",
       "<table border=\"1\" class=\"dataframe\">\n",
       "  <thead>\n",
       "    <tr style=\"text-align: right;\">\n",
       "      <th>Renewal Decision</th>\n",
       "      <th>Definitely would</th>\n",
       "      <th>Definitely would not</th>\n",
       "      <th>Probably would</th>\n",
       "      <th>Probably would not</th>\n",
       "      <th>Unsure</th>\n",
       "    </tr>\n",
       "    <tr>\n",
       "      <th>Property Type</th>\n",
       "      <th></th>\n",
       "      <th></th>\n",
       "      <th></th>\n",
       "      <th></th>\n",
       "      <th></th>\n",
       "    </tr>\n",
       "  </thead>\n",
       "  <tbody>\n",
       "    <tr>\n",
       "      <th>Industrial</th>\n",
       "      <td>9.482759</td>\n",
       "      <td>3.879310</td>\n",
       "      <td>42.241379</td>\n",
       "      <td>6.034483</td>\n",
       "      <td>38.362069</td>\n",
       "    </tr>\n",
       "    <tr>\n",
       "      <th>Office</th>\n",
       "      <td>37.627812</td>\n",
       "      <td>1.431493</td>\n",
       "      <td>50.920245</td>\n",
       "      <td>1.431493</td>\n",
       "      <td>8.588957</td>\n",
       "    </tr>\n",
       "    <tr>\n",
       "      <th>Retail</th>\n",
       "      <td>21.105528</td>\n",
       "      <td>3.015075</td>\n",
       "      <td>33.668342</td>\n",
       "      <td>9.045226</td>\n",
       "      <td>33.165829</td>\n",
       "    </tr>\n",
       "  </tbody>\n",
       "</table>\n",
       "</div>"
      ],
      "text/plain": [
       "Renewal Decision  Definitely would  Definitely would not  Probably would  \\\n",
       "Property Type                                                              \n",
       "Industrial                9.482759              3.879310       42.241379   \n",
       "Office                   37.627812              1.431493       50.920245   \n",
       "Retail                   21.105528              3.015075       33.668342   \n",
       "\n",
       "Renewal Decision  Probably would not     Unsure  \n",
       "Property Type                                    \n",
       "Industrial                  6.034483  38.362069  \n",
       "Office                      1.431493   8.588957  \n",
       "Retail                      9.045226  33.165829  "
      ]
     },
     "execution_count": 10,
     "metadata": {},
     "output_type": "execute_result"
    }
   ],
   "source": [
    "q1 = q1.pivot(index='Property Type', columns='Renewal Decision', values='Percent')\n",
    "q1"
   ]
  },
  {
   "cell_type": "code",
   "execution_count": 11,
   "metadata": {
    "collapsed": false
   },
   "outputs": [
    {
     "data": {
      "text/html": [
       "<div>\n",
       "<table border=\"1\" class=\"dataframe\">\n",
       "  <thead>\n",
       "    <tr style=\"text-align: right;\">\n",
       "      <th>Renewal Decision</th>\n",
       "      <th>Definitely would</th>\n",
       "      <th>Definitely would not</th>\n",
       "      <th>Probably would</th>\n",
       "      <th>Probably would not</th>\n",
       "      <th>Unsure</th>\n",
       "    </tr>\n",
       "  </thead>\n",
       "  <tbody>\n",
       "    <tr>\n",
       "      <th>Industrial</th>\n",
       "      <td>9.482759</td>\n",
       "      <td>3.879310</td>\n",
       "      <td>42.241379</td>\n",
       "      <td>6.034483</td>\n",
       "      <td>38.362069</td>\n",
       "    </tr>\n",
       "    <tr>\n",
       "      <th>Office</th>\n",
       "      <td>37.627812</td>\n",
       "      <td>1.431493</td>\n",
       "      <td>50.920245</td>\n",
       "      <td>1.431493</td>\n",
       "      <td>8.588957</td>\n",
       "    </tr>\n",
       "    <tr>\n",
       "      <th>Retail</th>\n",
       "      <td>21.105528</td>\n",
       "      <td>3.015075</td>\n",
       "      <td>33.668342</td>\n",
       "      <td>9.045226</td>\n",
       "      <td>33.165829</td>\n",
       "    </tr>\n",
       "    <tr>\n",
       "      <th>All</th>\n",
       "      <td>26.956522</td>\n",
       "      <td>2.391304</td>\n",
       "      <td>45.000000</td>\n",
       "      <td>4.239130</td>\n",
       "      <td>21.413043</td>\n",
       "    </tr>\n",
       "  </tbody>\n",
       "</table>\n",
       "</div>"
      ],
      "text/plain": [
       "Renewal Decision  Definitely would  Definitely would not  Probably would  \\\n",
       "Industrial                9.482759              3.879310       42.241379   \n",
       "Office                   37.627812              1.431493       50.920245   \n",
       "Retail                   21.105528              3.015075       33.668342   \n",
       "All                      26.956522              2.391304       45.000000   \n",
       "\n",
       "Renewal Decision  Probably would not     Unsure  \n",
       "Industrial                  6.034483  38.362069  \n",
       "Office                      1.431493   8.588957  \n",
       "Retail                      9.045226  33.165829  \n",
       "All                         4.239130  21.413043  "
      ]
     },
     "execution_count": 11,
     "metadata": {},
     "output_type": "execute_result"
    }
   ],
   "source": [
    "all_types = df.groupby('Renewal Decision')['Tenant ID #'].agg({'Frequency Counts': 'count'}).reset_index()\n",
    "all_types['Type'] = 'All'\n",
    "all_types['Percent'] = all_types['Frequency Counts'].divide(all_types['Frequency Counts'].sum())*100\n",
    "all_types = all_types.pivot(index='Type', columns='Renewal Decision', values='Percent')\n",
    "q1 = q1.append(all_types)\n",
    "\n",
    "q1"
   ]
  },
  {
   "cell_type": "code",
   "execution_count": 12,
   "metadata": {
    "collapsed": false
   },
   "outputs": [
    {
     "data": {
      "image/png": "[encoded data removed]",
      "text/plain": [
       "<matplotlib.figure.Figure at 0x284acf8bc50>"
      ]
     },
     "metadata": {},
     "output_type": "display_data"
    }
   ],
   "source": [
    "q1.T.plot.bar(figsize=(12,8), fontsize='large')\n",
    "plt.title('Renewal Decision by Property Type', fontsize='xx-large')\n",
    "plt.ylabel('Percent (Normalized Count)', fontsize='x-large')\n",
    "plt.xlabel('Renewal Decision', fontsize='x-large')\n",
    "plt.legend(title='Property Type', fontsize='large')\n",
    "plt.xticks(rotation=0, fontsize='medium')\n",
    "plt.show()"
   ]
  },
  {
   "cell_type": "code",
   "execution_count": 13,
   "metadata": {
    "collapsed": false
   },
   "outputs": [
    {
     "data": {
      "text/html": [
       "<div>\n",
       "<table border=\"1\" class=\"dataframe\">\n",
       "  <thead>\n",
       "    <tr style=\"text-align: right;\">\n",
       "      <th>Renewal Decision</th>\n",
       "      <th>Definitely would</th>\n",
       "      <th>Definitely would not</th>\n",
       "      <th>Probably would</th>\n",
       "      <th>Probably would not</th>\n",
       "      <th>Unsure</th>\n",
       "      <th>Likely To Renew</th>\n",
       "    </tr>\n",
       "  </thead>\n",
       "  <tbody>\n",
       "    <tr>\n",
       "      <th>Industrial</th>\n",
       "      <td>9.482759</td>\n",
       "      <td>3.879310</td>\n",
       "      <td>42.241379</td>\n",
       "      <td>6.034483</td>\n",
       "      <td>38.362069</td>\n",
       "      <td>51.724138</td>\n",
       "    </tr>\n",
       "    <tr>\n",
       "      <th>Office</th>\n",
       "      <td>37.627812</td>\n",
       "      <td>1.431493</td>\n",
       "      <td>50.920245</td>\n",
       "      <td>1.431493</td>\n",
       "      <td>8.588957</td>\n",
       "      <td>88.548057</td>\n",
       "    </tr>\n",
       "    <tr>\n",
       "      <th>Retail</th>\n",
       "      <td>21.105528</td>\n",
       "      <td>3.015075</td>\n",
       "      <td>33.668342</td>\n",
       "      <td>9.045226</td>\n",
       "      <td>33.165829</td>\n",
       "      <td>54.773869</td>\n",
       "    </tr>\n",
       "    <tr>\n",
       "      <th>All</th>\n",
       "      <td>26.956522</td>\n",
       "      <td>2.391304</td>\n",
       "      <td>45.000000</td>\n",
       "      <td>4.239130</td>\n",
       "      <td>21.413043</td>\n",
       "      <td>71.956522</td>\n",
       "    </tr>\n",
       "  </tbody>\n",
       "</table>\n",
       "</div>"
      ],
      "text/plain": [
       "Renewal Decision  Definitely would  Definitely would not  Probably would  \\\n",
       "Industrial                9.482759              3.879310       42.241379   \n",
       "Office                   37.627812              1.431493       50.920245   \n",
       "Retail                   21.105528              3.015075       33.668342   \n",
       "All                      26.956522              2.391304       45.000000   \n",
       "\n",
       "Renewal Decision  Probably would not     Unsure  Likely To Renew  \n",
       "Industrial                  6.034483  38.362069        51.724138  \n",
       "Office                      1.431493   8.588957        88.548057  \n",
       "Retail                      9.045226  33.165829        54.773869  \n",
       "All                         4.239130  21.413043        71.956522  "
      ]
     },
     "execution_count": 13,
     "metadata": {},
     "output_type": "execute_result"
    }
   ],
   "source": [
    "q1['Likely To Renew'] = q1['Definitely would'] + q1['Probably would']\n",
    "q1"
   ]
  },
  {
   "cell_type": "markdown",
   "metadata": {},
   "source": [
    "# b. What are the three most frequently cited \"\"Renewal Decision Factors\"\" for industrial tenants who are \"\"unsure\"\" about their renewal decision?"
   ]
  },
  {
   "cell_type": "code",
   "execution_count": 14,
   "metadata": {
    "collapsed": false
   },
   "outputs": [],
   "source": [
    "industrial = df[df['Property Type']=='Industrial']"
   ]
  },
  {
   "cell_type": "code",
   "execution_count": 15,
   "metadata": {
    "collapsed": false
   },
   "outputs": [],
   "source": [
    "industrial_unsure = industrial[industrial['Renewal Decision']=='Unsure']"
   ]
  },
  {
   "cell_type": "code",
   "execution_count": 16,
   "metadata": {
    "collapsed": false
   },
   "outputs": [
    {
     "data": {
      "image/png": "[encoded data removed]",
      "text/plain": [
       "<matplotlib.figure.Figure at 0x284ad017f60>"
      ]
     },
     "metadata": {},
     "output_type": "display_data"
    }
   ],
   "source": [
    "industrial_unsure['Renewal Decision Factor'].value_counts().plot.barh(figsize=(12,8), fontsize='large')\n",
    "plt.title('Renewal Decision Factors for Unsure Industrial Tenant', fontsize='xx-large')\n",
    "plt.xlabel('Frequency Counts', fontsize='x-large')\n",
    "plt.show()"
   ]
  },
  {
   "cell_type": "code",
   "execution_count": 17,
   "metadata": {
    "collapsed": false
   },
   "outputs": [
    {
     "name": "stdout",
     "output_type": "stream",
     "text": [
      "The three most frequently cited \"Renewal Decision Factors\" for Industrial tenants who are \"Unsure\" about their renewal\n"
     ]
    },
    {
     "data": {
      "text/plain": [
       "Price                   19\n",
       "Building maintenance    13\n",
       "Corporate decision      13\n",
       "Name: Renewal Decision Factor, dtype: int64"
      ]
     },
     "execution_count": 17,
     "metadata": {},
     "output_type": "execute_result"
    }
   ],
   "source": [
    "print('The three most frequently cited \"Renewal Decision Factors\" for Industrial tenants who are \"Unsure\" about their renewal')\n",
    "industrial_unsure['Renewal Decision Factor'].value_counts()[:3]"
   ]
  },
  {
   "cell_type": "markdown",
   "metadata": {},
   "source": [
    "# c. How many office tenants are likely to renew (respondents who selected \"\"probably would\"\" or \"\"definitely would\"\") and select \"\"property management\"\" as the renewal decision factor? What is the total square footage represented by these office tenants?"
   ]
  },
  {
   "cell_type": "code",
   "execution_count": 18,
   "metadata": {
    "collapsed": true
   },
   "outputs": [],
   "source": [
    "office = df[df['Property Type']=='Office']\n",
    "office_likely = office[(office['Renewal Decision'] == 'Probably would') | (office['Renewal Decision'] == 'Definitely would')]"
   ]
  },
  {
   "cell_type": "code",
   "execution_count": 19,
   "metadata": {
    "collapsed": false
   },
   "outputs": [
    {
     "name": "stdout",
     "output_type": "stream",
     "text": [
      "The number of office tenants most likely to renew\n"
     ]
    },
    {
     "data": {
      "text/plain": [
       "433"
      ]
     },
     "execution_count": 19,
     "metadata": {},
     "output_type": "execute_result"
    }
   ],
   "source": [
    "print('The number of office tenants most likely to renew')\n",
    "office_likely.shape[0]"
   ]
  },
  {
   "cell_type": "code",
   "execution_count": 20,
   "metadata": {
    "collapsed": false
   },
   "outputs": [
    {
     "name": "stdout",
     "output_type": "stream",
     "text": [
      "Those office tenants likely to renew who select property management as the renewal decision factor\n"
     ]
    },
    {
     "data": {
      "text/plain": [
       "78"
      ]
     },
     "execution_count": 20,
     "metadata": {},
     "output_type": "execute_result"
    }
   ],
   "source": [
    "print('Those office tenants likely to renew who select property management as the renewal decision factor')\n",
    "office_likely[office_likely['Renewal Decision Factor']=='Property management'].shape[0]"
   ]
  },
  {
   "cell_type": "code",
   "execution_count": 21,
   "metadata": {
    "collapsed": false
   },
   "outputs": [
    {
     "name": "stdout",
     "output_type": "stream",
     "text": [
      "The total square footage represented by these office tenants\n"
     ]
    },
    {
     "data": {
      "text/plain": [
       "827499"
      ]
     },
     "execution_count": 21,
     "metadata": {},
     "output_type": "execute_result"
    }
   ],
   "source": [
    "print('The total square footage represented by these office tenants')\n",
    "office_likely[office_likely['Renewal Decision Factor']=='Property management']['Square Footage'].sum()"
   ]
  },
  {
   "cell_type": "markdown",
   "metadata": {},
   "source": [
    "# d. How many tenants have a lease expiration in 2010 and are either unlikely to renew (respondents who selected \"\"probably would not\"\" or \"\"definitely would not\"\") or unsure about their renewal decision?\"\t\t\t\t\t\t\t\t\t\t\t\t\t\t"
   ]
  },
  {
   "cell_type": "code",
   "execution_count": 22,
   "metadata": {
    "collapsed": false
   },
   "outputs": [
    {
     "name": "stdout",
     "output_type": "stream",
     "text": [
      "Number of Tenants with lease expiration in 2010: 177\n"
     ]
    }
   ],
   "source": [
    "exp = df[df['Lease Expiration'].dt.year==2010]\n",
    "print('Number of Tenants with lease expiration in 2010: {}'.format(exp.shape[0]))"
   ]
  },
  {
   "cell_type": "code",
   "execution_count": 23,
   "metadata": {
    "collapsed": false
   },
   "outputs": [
    {
     "data": {
      "image/png": "[encoded data removed]",
      "text/plain": [
       "<matplotlib.figure.Figure at 0x284ad244c50>"
      ]
     },
     "metadata": {},
     "output_type": "display_data"
    }
   ],
   "source": [
    "exp['Renewal Decision'].value_counts().plot.barh(figsize=(12,8), fontsize='large')\n",
    "plt.title('Renewal Decisions for Tenants with their Lease Expiring in 2010', fontsize='xx-large')\n",
    "plt.xlabel('Frequency Counts', fontsize='x-large')\n",
    "plt.show()"
   ]
  },
  {
   "cell_type": "code",
   "execution_count": 24,
   "metadata": {
    "collapsed": false
   },
   "outputs": [
    {
     "data": {
      "text/html": [
       "<div>\n",
       "<table border=\"1\" class=\"dataframe\">\n",
       "  <thead>\n",
       "    <tr style=\"text-align: right;\">\n",
       "      <th></th>\n",
       "      <th>Tenant ID #</th>\n",
       "      <th>Property Name</th>\n",
       "      <th>Asset Manager</th>\n",
       "      <th>Property Type</th>\n",
       "      <th>Company Name</th>\n",
       "      <th>Square Footage</th>\n",
       "      <th>Lease Expiration</th>\n",
       "      <th>Overall satisfaction</th>\n",
       "      <th>Overall satisfaction with management</th>\n",
       "      <th>Professionalism / courtesy</th>\n",
       "      <th>...</th>\n",
       "      <th>Column spacing</th>\n",
       "      <th>Loading area / docks</th>\n",
       "      <th>Ratio of dock doors to square footage</th>\n",
       "      <th>Truck maneuverability</th>\n",
       "      <th>\"Green\" Importance</th>\n",
       "      <th>Leasing Process Overall Satisfaction</th>\n",
       "      <th>Leasing staff - professionalism / courtesy</th>\n",
       "      <th>Leasing staff - responsiveness</th>\n",
       "      <th>Renewal Decision</th>\n",
       "      <th>Renewal Decision Factor</th>\n",
       "    </tr>\n",
       "  </thead>\n",
       "  <tbody>\n",
       "    <tr>\n",
       "      <th>2</th>\n",
       "      <td>326952</td>\n",
       "      <td>10, 25, 27 Otis Street</td>\n",
       "      <td>Jonathan Smith</td>\n",
       "      <td>Industrial</td>\n",
       "      <td>EXM (Eurobex)</td>\n",
       "      <td>19971</td>\n",
       "      <td>2010-09-30</td>\n",
       "      <td>4.0</td>\n",
       "      <td>4.0</td>\n",
       "      <td>4.0</td>\n",
       "      <td>...</td>\n",
       "      <td>4.0</td>\n",
       "      <td>4.0</td>\n",
       "      <td>4.0</td>\n",
       "      <td>4.0</td>\n",
       "      <td>Neutral</td>\n",
       "      <td>NaN</td>\n",
       "      <td>NaN</td>\n",
       "      <td>NaN</td>\n",
       "      <td>Unsure</td>\n",
       "      <td>Corporate decision</td>\n",
       "    </tr>\n",
       "    <tr>\n",
       "      <th>3</th>\n",
       "      <td>326953</td>\n",
       "      <td>10, 25, 27 Otis Street</td>\n",
       "      <td>Jonathan Smith</td>\n",
       "      <td>Industrial</td>\n",
       "      <td>Ambius</td>\n",
       "      <td>19087</td>\n",
       "      <td>2010-07-31</td>\n",
       "      <td>3.0</td>\n",
       "      <td>2.0</td>\n",
       "      <td>3.0</td>\n",
       "      <td>...</td>\n",
       "      <td>4.0</td>\n",
       "      <td>4.0</td>\n",
       "      <td>4.0</td>\n",
       "      <td>2.0</td>\n",
       "      <td>Important</td>\n",
       "      <td>NaN</td>\n",
       "      <td>NaN</td>\n",
       "      <td>NaN</td>\n",
       "      <td>Unsure</td>\n",
       "      <td>Quality of building</td>\n",
       "    </tr>\n",
       "    <tr>\n",
       "      <th>6</th>\n",
       "      <td>281438</td>\n",
       "      <td>10650 Riggs Hill Road</td>\n",
       "      <td>Suzanne Michaels</td>\n",
       "      <td>Industrial</td>\n",
       "      <td>Armstrong Wood Products</td>\n",
       "      <td>61523</td>\n",
       "      <td>2010-07-31</td>\n",
       "      <td>4.0</td>\n",
       "      <td>3.0</td>\n",
       "      <td>3.0</td>\n",
       "      <td>...</td>\n",
       "      <td>5.0</td>\n",
       "      <td>5.0</td>\n",
       "      <td>5.0</td>\n",
       "      <td>5.0</td>\n",
       "      <td>Important</td>\n",
       "      <td>3.0</td>\n",
       "      <td>4.0</td>\n",
       "      <td>3.0</td>\n",
       "      <td>Unsure</td>\n",
       "      <td>Security</td>\n",
       "    </tr>\n",
       "    <tr>\n",
       "      <th>10</th>\n",
       "      <td>281216</td>\n",
       "      <td>175 Chastain Meadows Court</td>\n",
       "      <td>Jennifer Fortson</td>\n",
       "      <td>Industrial</td>\n",
       "      <td>RESPIRONICS, INC</td>\n",
       "      <td>129000</td>\n",
       "      <td>2010-11-30</td>\n",
       "      <td>5.0</td>\n",
       "      <td>5.0</td>\n",
       "      <td>5.0</td>\n",
       "      <td>...</td>\n",
       "      <td>4.0</td>\n",
       "      <td>5.0</td>\n",
       "      <td>5.0</td>\n",
       "      <td>3.0</td>\n",
       "      <td>Very important</td>\n",
       "      <td>NaN</td>\n",
       "      <td>NaN</td>\n",
       "      <td>NaN</td>\n",
       "      <td>Probably would</td>\n",
       "      <td>Quality of building</td>\n",
       "    </tr>\n",
       "    <tr>\n",
       "      <th>14</th>\n",
       "      <td>281069</td>\n",
       "      <td>32 Forge Park</td>\n",
       "      <td>Kathy Rodriguez</td>\n",
       "      <td>Industrial</td>\n",
       "      <td>BJ's</td>\n",
       "      <td>142120</td>\n",
       "      <td>2010-01-03</td>\n",
       "      <td>4.0</td>\n",
       "      <td>4.0</td>\n",
       "      <td>5.0</td>\n",
       "      <td>...</td>\n",
       "      <td>4.0</td>\n",
       "      <td>4.0</td>\n",
       "      <td>4.0</td>\n",
       "      <td>4.0</td>\n",
       "      <td>Important</td>\n",
       "      <td>NaN</td>\n",
       "      <td>NaN</td>\n",
       "      <td>NaN</td>\n",
       "      <td>NaN</td>\n",
       "      <td>NaN</td>\n",
       "    </tr>\n",
       "  </tbody>\n",
       "</table>\n",
       "<p>5 rows × 42 columns</p>\n",
       "</div>"
      ],
      "text/plain": [
       "    Tenant ID #               Property Name     Asset Manager Property Type  \\\n",
       "2        326952      10, 25, 27 Otis Street    Jonathan Smith    Industrial   \n",
       "3        326953      10, 25, 27 Otis Street    Jonathan Smith    Industrial   \n",
       "6        281438       10650 Riggs Hill Road  Suzanne Michaels    Industrial   \n",
       "10       281216  175 Chastain Meadows Court  Jennifer Fortson    Industrial   \n",
       "14       281069               32 Forge Park   Kathy Rodriguez    Industrial   \n",
       "\n",
       "               Company Name  Square Footage Lease Expiration  \\\n",
       "2             EXM (Eurobex)           19971       2010-09-30   \n",
       "3                    Ambius           19087       2010-07-31   \n",
       "6   Armstrong Wood Products           61523       2010-07-31   \n",
       "10         RESPIRONICS, INC          129000       2010-11-30   \n",
       "14                     BJ's          142120       2010-01-03   \n",
       "\n",
       "    Overall satisfaction  Overall satisfaction with management  \\\n",
       "2                    4.0                                   4.0   \n",
       "3                    3.0                                   2.0   \n",
       "6                    4.0                                   3.0   \n",
       "10                   5.0                                   5.0   \n",
       "14                   4.0                                   4.0   \n",
       "\n",
       "    Professionalism / courtesy           ...             Column spacing  \\\n",
       "2                          4.0           ...                        4.0   \n",
       "3                          3.0           ...                        4.0   \n",
       "6                          3.0           ...                        5.0   \n",
       "10                         5.0           ...                        4.0   \n",
       "14                         5.0           ...                        4.0   \n",
       "\n",
       "   Loading area / docks Ratio of dock doors to square footage  \\\n",
       "2                   4.0                                   4.0   \n",
       "3                   4.0                                   4.0   \n",
       "6                   5.0                                   5.0   \n",
       "10                  5.0                                   5.0   \n",
       "14                  4.0                                   4.0   \n",
       "\n",
       "   Truck maneuverability \"Green\" Importance  \\\n",
       "2                    4.0            Neutral   \n",
       "3                    2.0          Important   \n",
       "6                    5.0          Important   \n",
       "10                   3.0     Very important   \n",
       "14                   4.0          Important   \n",
       "\n",
       "   Leasing Process Overall Satisfaction  \\\n",
       "2                                   NaN   \n",
       "3                                   NaN   \n",
       "6                                   3.0   \n",
       "10                                  NaN   \n",
       "14                                  NaN   \n",
       "\n",
       "    Leasing staff - professionalism / courtesy  \\\n",
       "2                                          NaN   \n",
       "3                                          NaN   \n",
       "6                                          4.0   \n",
       "10                                         NaN   \n",
       "14                                         NaN   \n",
       "\n",
       "    Leasing staff - responsiveness  Renewal Decision  Renewal Decision Factor  \n",
       "2                              NaN            Unsure       Corporate decision  \n",
       "3                              NaN            Unsure      Quality of building  \n",
       "6                              3.0            Unsure                 Security  \n",
       "10                             NaN    Probably would      Quality of building  \n",
       "14                             NaN               NaN                      NaN  \n",
       "\n",
       "[5 rows x 42 columns]"
      ]
     },
     "execution_count": 24,
     "metadata": {},
     "output_type": "execute_result"
    }
   ],
   "source": [
    "exp.head()"
   ]
  },
  {
   "cell_type": "code",
   "execution_count": 25,
   "metadata": {
    "collapsed": false
   },
   "outputs": [],
   "source": [
    "result = exp[(exp['Renewal Decision']=='Probably would not') | \n",
    "             (exp['Renewal Decision']=='Definitely would not') | \n",
    "             (exp['Renewal Decision']=='Unsure')]"
   ]
  },
  {
   "cell_type": "code",
   "execution_count": 26,
   "metadata": {
    "collapsed": false
   },
   "outputs": [
    {
     "name": "stdout",
     "output_type": "stream",
     "text": [
      "The number of tenants with expiring leases in 2010 that are unlikely to renew or unsure:\n"
     ]
    },
    {
     "data": {
      "text/plain": [
       "51"
      ]
     },
     "execution_count": 26,
     "metadata": {},
     "output_type": "execute_result"
    }
   ],
   "source": [
    "print('The number of tenants with expiring leases in 2010 that are unlikely to renew or unsure:')\n",
    "result.shape[0]"
   ]
  },
  {
   "cell_type": "markdown",
   "metadata": {},
   "source": [
    "# \"2a. Create a table showing the average scores for \"\"Overall satisfaction,\"\" \"\"Overall satisfaction with management\"\" and \"\"Quality of building\"\" by Asset Manager. Also, include the averages for the entire data set for each of these questions, labeled \"\"Portfolio Averages.\"\" "
   ]
  },
  {
   "cell_type": "code",
   "execution_count": 27,
   "metadata": {
    "collapsed": true
   },
   "outputs": [],
   "source": [
    "key_columns = ['Overall satisfaction', 'Overall satisfaction with management', 'Quality of building']"
   ]
  },
  {
   "cell_type": "code",
   "execution_count": 28,
   "metadata": {
    "collapsed": true
   },
   "outputs": [],
   "source": [
    "names = df['Asset Manager'].unique().tolist()"
   ]
  },
  {
   "cell_type": "code",
   "execution_count": 29,
   "metadata": {
    "collapsed": true
   },
   "outputs": [],
   "source": [
    "scores = np.arange(1, 6)"
   ]
  },
  {
   "cell_type": "code",
   "execution_count": 30,
   "metadata": {
    "collapsed": true
   },
   "outputs": [],
   "source": [
    "overall_df = pd.DataFrame(0, index=np.arange(1, 6), columns=names)\n",
    "for name in names:\n",
    "    col = []\n",
    "    for score in scores:\n",
    "        current_manager = df[df['Asset Manager']==name]['Overall satisfaction'].value_counts()\n",
    "        col.append(current_manager[current_manager.index==score].values[0])\n",
    "    overall_df[name] = col\n",
    "\n",
    "overall_management_df = pd.DataFrame(0, index=np.arange(1, 6), columns=names)\n",
    "for name in names:\n",
    "    col = []\n",
    "    for score in scores:\n",
    "        current_manager = df[df['Asset Manager']==name]['Overall satisfaction with management'].value_counts()\n",
    "        col.append(current_manager[current_manager.index==score].values[0])\n",
    "    overall_management_df[name] = col\n",
    "    \n",
    "quality_df = pd.DataFrame(0, index=np.arange(1, 6), columns=names)\n",
    "for name in names:\n",
    "    col = []\n",
    "    for score in scores:\n",
    "        current_manager = df[df['Asset Manager']==name]['Quality of building'].value_counts()\n",
    "        if current_manager[current_manager.index==score].values.size==0:\n",
    "            col.append(0)\n",
    "        else:\n",
    "            col.append(current_manager[current_manager.index==score].values[0])\n",
    "    quality_df[name] = col"
   ]
  },
  {
   "cell_type": "markdown",
   "metadata": {},
   "source": [
    "Now that we have the counts for each asset manager in each category, I will now normalize the data such that the sum of all values for each asset manager is equal to 1."
   ]
  },
  {
   "cell_type": "code",
   "execution_count": 31,
   "metadata": {
    "collapsed": true
   },
   "outputs": [],
   "source": [
    "from sklearn.preprocessing import normalize"
   ]
  },
  {
   "cell_type": "markdown",
   "metadata": {},
   "source": [
    "Before normalization:"
   ]
  },
  {
   "cell_type": "code",
   "execution_count": 32,
   "metadata": {
    "collapsed": false
   },
   "outputs": [
    {
     "data": {
      "text/html": [
       "<div>\n",
       "<table border=\"1\" class=\"dataframe\">\n",
       "  <thead>\n",
       "    <tr style=\"text-align: right;\">\n",
       "      <th></th>\n",
       "      <th>Jonathan Smith</th>\n",
       "      <th>Kathy Rodriguez</th>\n",
       "      <th>Suzanne Michaels</th>\n",
       "      <th>Jennifer Fortson</th>\n",
       "      <th>Peter Kiernon</th>\n",
       "      <th>Fredrick Sanders</th>\n",
       "    </tr>\n",
       "  </thead>\n",
       "  <tbody>\n",
       "    <tr>\n",
       "      <th>1</th>\n",
       "      <td>4</td>\n",
       "      <td>9</td>\n",
       "      <td>9</td>\n",
       "      <td>11</td>\n",
       "      <td>3</td>\n",
       "      <td>2</td>\n",
       "    </tr>\n",
       "    <tr>\n",
       "      <th>2</th>\n",
       "      <td>9</td>\n",
       "      <td>14</td>\n",
       "      <td>2</td>\n",
       "      <td>13</td>\n",
       "      <td>12</td>\n",
       "      <td>5</td>\n",
       "    </tr>\n",
       "    <tr>\n",
       "      <th>3</th>\n",
       "      <td>35</td>\n",
       "      <td>25</td>\n",
       "      <td>13</td>\n",
       "      <td>35</td>\n",
       "      <td>22</td>\n",
       "      <td>17</td>\n",
       "    </tr>\n",
       "    <tr>\n",
       "      <th>4</th>\n",
       "      <td>96</td>\n",
       "      <td>111</td>\n",
       "      <td>60</td>\n",
       "      <td>97</td>\n",
       "      <td>95</td>\n",
       "      <td>72</td>\n",
       "    </tr>\n",
       "    <tr>\n",
       "      <th>5</th>\n",
       "      <td>50</td>\n",
       "      <td>71</td>\n",
       "      <td>43</td>\n",
       "      <td>34</td>\n",
       "      <td>47</td>\n",
       "      <td>31</td>\n",
       "    </tr>\n",
       "  </tbody>\n",
       "</table>\n",
       "</div>"
      ],
      "text/plain": [
       "   Jonathan Smith  Kathy Rodriguez  Suzanne Michaels  Jennifer Fortson  \\\n",
       "1               4                9                 9                11   \n",
       "2               9               14                 2                13   \n",
       "3              35               25                13                35   \n",
       "4              96              111                60                97   \n",
       "5              50               71                43                34   \n",
       "\n",
       "   Peter Kiernon  Fredrick Sanders  \n",
       "1              3                 2  \n",
       "2             12                 5  \n",
       "3             22                17  \n",
       "4             95                72  \n",
       "5             47                31  "
      ]
     },
     "execution_count": 32,
     "metadata": {},
     "output_type": "execute_result"
    }
   ],
   "source": [
    "overall_df"
   ]
  },
  {
   "cell_type": "markdown",
   "metadata": {},
   "source": [
    "After normalization:"
   ]
  },
  {
   "cell_type": "code",
   "execution_count": 33,
   "metadata": {
    "collapsed": false
   },
   "outputs": [
    {
     "data": {
      "text/html": [
       "<div>\n",
       "<table border=\"1\" class=\"dataframe\">\n",
       "  <thead>\n",
       "    <tr style=\"text-align: right;\">\n",
       "      <th></th>\n",
       "      <th>Jonathan Smith</th>\n",
       "      <th>Kathy Rodriguez</th>\n",
       "      <th>Suzanne Michaels</th>\n",
       "      <th>Jennifer Fortson</th>\n",
       "      <th>Peter Kiernon</th>\n",
       "      <th>Fredrick Sanders</th>\n",
       "    </tr>\n",
       "  </thead>\n",
       "  <tbody>\n",
       "    <tr>\n",
       "      <th>1</th>\n",
       "      <td>2.061856</td>\n",
       "      <td>3.913043</td>\n",
       "      <td>7.086614</td>\n",
       "      <td>5.789474</td>\n",
       "      <td>1.675978</td>\n",
       "      <td>1.574803</td>\n",
       "    </tr>\n",
       "    <tr>\n",
       "      <th>2</th>\n",
       "      <td>4.639175</td>\n",
       "      <td>6.086957</td>\n",
       "      <td>1.574803</td>\n",
       "      <td>6.842105</td>\n",
       "      <td>6.703911</td>\n",
       "      <td>3.937008</td>\n",
       "    </tr>\n",
       "    <tr>\n",
       "      <th>3</th>\n",
       "      <td>18.041237</td>\n",
       "      <td>10.869565</td>\n",
       "      <td>10.236220</td>\n",
       "      <td>18.421053</td>\n",
       "      <td>12.290503</td>\n",
       "      <td>13.385827</td>\n",
       "    </tr>\n",
       "    <tr>\n",
       "      <th>4</th>\n",
       "      <td>49.484536</td>\n",
       "      <td>48.260870</td>\n",
       "      <td>47.244094</td>\n",
       "      <td>51.052632</td>\n",
       "      <td>53.072626</td>\n",
       "      <td>56.692913</td>\n",
       "    </tr>\n",
       "    <tr>\n",
       "      <th>5</th>\n",
       "      <td>25.773196</td>\n",
       "      <td>30.869565</td>\n",
       "      <td>33.858268</td>\n",
       "      <td>17.894737</td>\n",
       "      <td>26.256983</td>\n",
       "      <td>24.409449</td>\n",
       "    </tr>\n",
       "  </tbody>\n",
       "</table>\n",
       "</div>"
      ],
      "text/plain": [
       "   Jonathan Smith  Kathy Rodriguez  Suzanne Michaels  Jennifer Fortson  \\\n",
       "1        2.061856         3.913043          7.086614          5.789474   \n",
       "2        4.639175         6.086957          1.574803          6.842105   \n",
       "3       18.041237        10.869565         10.236220         18.421053   \n",
       "4       49.484536        48.260870         47.244094         51.052632   \n",
       "5       25.773196        30.869565         33.858268         17.894737   \n",
       "\n",
       "   Peter Kiernon  Fredrick Sanders  \n",
       "1       1.675978          1.574803  \n",
       "2       6.703911          3.937008  \n",
       "3      12.290503         13.385827  \n",
       "4      53.072626         56.692913  \n",
       "5      26.256983         24.409449  "
      ]
     },
     "execution_count": 33,
     "metadata": {},
     "output_type": "execute_result"
    }
   ],
   "source": [
    "overall_df = pd.DataFrame(normalize(overall_df, 'l1', axis=0)*100, columns=names, index=np.arange(1, 6))\n",
    "overall_df"
   ]
  },
  {
   "cell_type": "code",
   "execution_count": 34,
   "metadata": {
    "collapsed": false
   },
   "outputs": [
    {
     "data": {
      "text/html": [
       "<div>\n",
       "<table border=\"1\" class=\"dataframe\">\n",
       "  <thead>\n",
       "    <tr style=\"text-align: right;\">\n",
       "      <th></th>\n",
       "      <th>Jonathan Smith</th>\n",
       "      <th>Kathy Rodriguez</th>\n",
       "      <th>Suzanne Michaels</th>\n",
       "      <th>Jennifer Fortson</th>\n",
       "      <th>Peter Kiernon</th>\n",
       "      <th>Fredrick Sanders</th>\n",
       "    </tr>\n",
       "  </thead>\n",
       "  <tbody>\n",
       "    <tr>\n",
       "      <th>1</th>\n",
       "      <td>5</td>\n",
       "      <td>6</td>\n",
       "      <td>5</td>\n",
       "      <td>10</td>\n",
       "      <td>3</td>\n",
       "      <td>3</td>\n",
       "    </tr>\n",
       "    <tr>\n",
       "      <th>2</th>\n",
       "      <td>7</td>\n",
       "      <td>10</td>\n",
       "      <td>3</td>\n",
       "      <td>14</td>\n",
       "      <td>10</td>\n",
       "      <td>5</td>\n",
       "    </tr>\n",
       "    <tr>\n",
       "      <th>3</th>\n",
       "      <td>21</td>\n",
       "      <td>22</td>\n",
       "      <td>13</td>\n",
       "      <td>21</td>\n",
       "      <td>16</td>\n",
       "      <td>12</td>\n",
       "    </tr>\n",
       "    <tr>\n",
       "      <th>4</th>\n",
       "      <td>80</td>\n",
       "      <td>80</td>\n",
       "      <td>48</td>\n",
       "      <td>88</td>\n",
       "      <td>79</td>\n",
       "      <td>55</td>\n",
       "    </tr>\n",
       "    <tr>\n",
       "      <th>5</th>\n",
       "      <td>76</td>\n",
       "      <td>97</td>\n",
       "      <td>55</td>\n",
       "      <td>47</td>\n",
       "      <td>62</td>\n",
       "      <td>47</td>\n",
       "    </tr>\n",
       "  </tbody>\n",
       "</table>\n",
       "</div>"
      ],
      "text/plain": [
       "   Jonathan Smith  Kathy Rodriguez  Suzanne Michaels  Jennifer Fortson  \\\n",
       "1               5                6                 5                10   \n",
       "2               7               10                 3                14   \n",
       "3              21               22                13                21   \n",
       "4              80               80                48                88   \n",
       "5              76               97                55                47   \n",
       "\n",
       "   Peter Kiernon  Fredrick Sanders  \n",
       "1              3                 3  \n",
       "2             10                 5  \n",
       "3             16                12  \n",
       "4             79                55  \n",
       "5             62                47  "
      ]
     },
     "execution_count": 34,
     "metadata": {},
     "output_type": "execute_result"
    }
   ],
   "source": [
    "overall_management_df"
   ]
  },
  {
   "cell_type": "code",
   "execution_count": 35,
   "metadata": {
    "collapsed": false
   },
   "outputs": [
    {
     "data": {
      "text/html": [
       "<div>\n",
       "<table border=\"1\" class=\"dataframe\">\n",
       "  <thead>\n",
       "    <tr style=\"text-align: right;\">\n",
       "      <th></th>\n",
       "      <th>Jonathan Smith</th>\n",
       "      <th>Kathy Rodriguez</th>\n",
       "      <th>Suzanne Michaels</th>\n",
       "      <th>Jennifer Fortson</th>\n",
       "      <th>Peter Kiernon</th>\n",
       "      <th>Fredrick Sanders</th>\n",
       "    </tr>\n",
       "  </thead>\n",
       "  <tbody>\n",
       "    <tr>\n",
       "      <th>1</th>\n",
       "      <td>2.645503</td>\n",
       "      <td>2.790698</td>\n",
       "      <td>4.032258</td>\n",
       "      <td>5.555556</td>\n",
       "      <td>1.764706</td>\n",
       "      <td>2.459016</td>\n",
       "    </tr>\n",
       "    <tr>\n",
       "      <th>2</th>\n",
       "      <td>3.703704</td>\n",
       "      <td>4.651163</td>\n",
       "      <td>2.419355</td>\n",
       "      <td>7.777778</td>\n",
       "      <td>5.882353</td>\n",
       "      <td>4.098361</td>\n",
       "    </tr>\n",
       "    <tr>\n",
       "      <th>3</th>\n",
       "      <td>11.111111</td>\n",
       "      <td>10.232558</td>\n",
       "      <td>10.483871</td>\n",
       "      <td>11.666667</td>\n",
       "      <td>9.411765</td>\n",
       "      <td>9.836066</td>\n",
       "    </tr>\n",
       "    <tr>\n",
       "      <th>4</th>\n",
       "      <td>42.328042</td>\n",
       "      <td>37.209302</td>\n",
       "      <td>38.709677</td>\n",
       "      <td>48.888889</td>\n",
       "      <td>46.470588</td>\n",
       "      <td>45.081967</td>\n",
       "    </tr>\n",
       "    <tr>\n",
       "      <th>5</th>\n",
       "      <td>40.211640</td>\n",
       "      <td>45.116279</td>\n",
       "      <td>44.354839</td>\n",
       "      <td>26.111111</td>\n",
       "      <td>36.470588</td>\n",
       "      <td>38.524590</td>\n",
       "    </tr>\n",
       "  </tbody>\n",
       "</table>\n",
       "</div>"
      ],
      "text/plain": [
       "   Jonathan Smith  Kathy Rodriguez  Suzanne Michaels  Jennifer Fortson  \\\n",
       "1        2.645503         2.790698          4.032258          5.555556   \n",
       "2        3.703704         4.651163          2.419355          7.777778   \n",
       "3       11.111111        10.232558         10.483871         11.666667   \n",
       "4       42.328042        37.209302         38.709677         48.888889   \n",
       "5       40.211640        45.116279         44.354839         26.111111   \n",
       "\n",
       "   Peter Kiernon  Fredrick Sanders  \n",
       "1       1.764706          2.459016  \n",
       "2       5.882353          4.098361  \n",
       "3       9.411765          9.836066  \n",
       "4      46.470588         45.081967  \n",
       "5      36.470588         38.524590  "
      ]
     },
     "execution_count": 35,
     "metadata": {},
     "output_type": "execute_result"
    }
   ],
   "source": [
    "overall_management_df = pd.DataFrame(normalize(overall_management_df, 'l1', axis=0)*100, columns=names, index=np.arange(1, 6))\n",
    "overall_management_df"
   ]
  },
  {
   "cell_type": "code",
   "execution_count": 36,
   "metadata": {
    "collapsed": false
   },
   "outputs": [
    {
     "data": {
      "text/html": [
       "<div>\n",
       "<table border=\"1\" class=\"dataframe\">\n",
       "  <thead>\n",
       "    <tr style=\"text-align: right;\">\n",
       "      <th></th>\n",
       "      <th>Jonathan Smith</th>\n",
       "      <th>Kathy Rodriguez</th>\n",
       "      <th>Suzanne Michaels</th>\n",
       "      <th>Jennifer Fortson</th>\n",
       "      <th>Peter Kiernon</th>\n",
       "      <th>Fredrick Sanders</th>\n",
       "    </tr>\n",
       "  </thead>\n",
       "  <tbody>\n",
       "    <tr>\n",
       "      <th>1</th>\n",
       "      <td>1</td>\n",
       "      <td>3</td>\n",
       "      <td>0</td>\n",
       "      <td>1</td>\n",
       "      <td>2</td>\n",
       "      <td>2</td>\n",
       "    </tr>\n",
       "    <tr>\n",
       "      <th>2</th>\n",
       "      <td>10</td>\n",
       "      <td>8</td>\n",
       "      <td>6</td>\n",
       "      <td>2</td>\n",
       "      <td>10</td>\n",
       "      <td>4</td>\n",
       "    </tr>\n",
       "    <tr>\n",
       "      <th>3</th>\n",
       "      <td>34</td>\n",
       "      <td>23</td>\n",
       "      <td>26</td>\n",
       "      <td>15</td>\n",
       "      <td>25</td>\n",
       "      <td>29</td>\n",
       "    </tr>\n",
       "    <tr>\n",
       "      <th>4</th>\n",
       "      <td>62</td>\n",
       "      <td>76</td>\n",
       "      <td>44</td>\n",
       "      <td>27</td>\n",
       "      <td>83</td>\n",
       "      <td>43</td>\n",
       "    </tr>\n",
       "    <tr>\n",
       "      <th>5</th>\n",
       "      <td>33</td>\n",
       "      <td>65</td>\n",
       "      <td>29</td>\n",
       "      <td>19</td>\n",
       "      <td>37</td>\n",
       "      <td>22</td>\n",
       "    </tr>\n",
       "  </tbody>\n",
       "</table>\n",
       "</div>"
      ],
      "text/plain": [
       "   Jonathan Smith  Kathy Rodriguez  Suzanne Michaels  Jennifer Fortson  \\\n",
       "1               1                3                 0                 1   \n",
       "2              10                8                 6                 2   \n",
       "3              34               23                26                15   \n",
       "4              62               76                44                27   \n",
       "5              33               65                29                19   \n",
       "\n",
       "   Peter Kiernon  Fredrick Sanders  \n",
       "1              2                 2  \n",
       "2             10                 4  \n",
       "3             25                29  \n",
       "4             83                43  \n",
       "5             37                22  "
      ]
     },
     "execution_count": 36,
     "metadata": {},
     "output_type": "execute_result"
    }
   ],
   "source": [
    "quality_df"
   ]
  },
  {
   "cell_type": "code",
   "execution_count": 37,
   "metadata": {
    "collapsed": false
   },
   "outputs": [
    {
     "data": {
      "text/html": [
       "<div>\n",
       "<table border=\"1\" class=\"dataframe\">\n",
       "  <thead>\n",
       "    <tr style=\"text-align: right;\">\n",
       "      <th></th>\n",
       "      <th>Jonathan Smith</th>\n",
       "      <th>Kathy Rodriguez</th>\n",
       "      <th>Suzanne Michaels</th>\n",
       "      <th>Jennifer Fortson</th>\n",
       "      <th>Peter Kiernon</th>\n",
       "      <th>Fredrick Sanders</th>\n",
       "    </tr>\n",
       "  </thead>\n",
       "  <tbody>\n",
       "    <tr>\n",
       "      <th>1</th>\n",
       "      <td>0.714286</td>\n",
       "      <td>1.714286</td>\n",
       "      <td>0.000000</td>\n",
       "      <td>1.5625</td>\n",
       "      <td>1.273885</td>\n",
       "      <td>2.0</td>\n",
       "    </tr>\n",
       "    <tr>\n",
       "      <th>2</th>\n",
       "      <td>7.142857</td>\n",
       "      <td>4.571429</td>\n",
       "      <td>5.714286</td>\n",
       "      <td>3.1250</td>\n",
       "      <td>6.369427</td>\n",
       "      <td>4.0</td>\n",
       "    </tr>\n",
       "    <tr>\n",
       "      <th>3</th>\n",
       "      <td>24.285714</td>\n",
       "      <td>13.142857</td>\n",
       "      <td>24.761905</td>\n",
       "      <td>23.4375</td>\n",
       "      <td>15.923567</td>\n",
       "      <td>29.0</td>\n",
       "    </tr>\n",
       "    <tr>\n",
       "      <th>4</th>\n",
       "      <td>44.285714</td>\n",
       "      <td>43.428571</td>\n",
       "      <td>41.904762</td>\n",
       "      <td>42.1875</td>\n",
       "      <td>52.866242</td>\n",
       "      <td>43.0</td>\n",
       "    </tr>\n",
       "    <tr>\n",
       "      <th>5</th>\n",
       "      <td>23.571429</td>\n",
       "      <td>37.142857</td>\n",
       "      <td>27.619048</td>\n",
       "      <td>29.6875</td>\n",
       "      <td>23.566879</td>\n",
       "      <td>22.0</td>\n",
       "    </tr>\n",
       "  </tbody>\n",
       "</table>\n",
       "</div>"
      ],
      "text/plain": [
       "   Jonathan Smith  Kathy Rodriguez  Suzanne Michaels  Jennifer Fortson  \\\n",
       "1        0.714286         1.714286          0.000000            1.5625   \n",
       "2        7.142857         4.571429          5.714286            3.1250   \n",
       "3       24.285714        13.142857         24.761905           23.4375   \n",
       "4       44.285714        43.428571         41.904762           42.1875   \n",
       "5       23.571429        37.142857         27.619048           29.6875   \n",
       "\n",
       "   Peter Kiernon  Fredrick Sanders  \n",
       "1       1.273885               2.0  \n",
       "2       6.369427               4.0  \n",
       "3      15.923567              29.0  \n",
       "4      52.866242              43.0  \n",
       "5      23.566879              22.0  "
      ]
     },
     "execution_count": 37,
     "metadata": {},
     "output_type": "execute_result"
    }
   ],
   "source": [
    "quality_df = pd.DataFrame(normalize(quality_df, 'l1', axis=0)*100, columns=names, index=np.arange(1, 6))\n",
    "quality_df"
   ]
  },
  {
   "cell_type": "code",
   "execution_count": 38,
   "metadata": {
    "collapsed": false
   },
   "outputs": [
    {
     "data": {
      "image/png": "[encoded data removed]",
      "text/plain": [
       "<matplotlib.figure.Figure at 0x284adc79240>"
      ]
     },
     "metadata": {},
     "output_type": "display_data"
    },
    {
     "data": {
      "image/png": "[encoded data removed]",
      "text/plain": [
       "<matplotlib.figure.Figure at 0x284adddaac8>"
      ]
     },
     "metadata": {},
     "output_type": "display_data"
    },
    {
     "data": {
      "image/png": "[encoded data removed]",
      "text/plain": [
       "<matplotlib.figure.Figure at 0x284adee5160>"
      ]
     },
     "metadata": {},
     "output_type": "display_data"
    }
   ],
   "source": [
    "overall_df.plot.bar(figsize=(12,8), fontsize='large')\n",
    "plt.title('Overall Satisfaction by Asset Manager', fontsize='xx-large')\n",
    "plt.xlabel('Overall Satisfaction', fontsize='x-large')\n",
    "plt.ylabel('Normalized Counts (Percent)', fontsize='x-large')\n",
    "plt.legend(title='Asset Manager', fontsize='large')\n",
    "plt.xticks(rotation=0)\n",
    "plt.show()\n",
    "\n",
    "overall_management_df.plot.bar(figsize=(12,8), fontsize='large')\n",
    "plt.title('Overall Satisfaction with Management by Asset Manager', fontsize='xx-large')\n",
    "plt.xlabel('Overall Satisfaction with Management', fontsize='x-large')\n",
    "plt.ylabel('Normalized Counts (Percent)', fontsize='x-large')\n",
    "plt.legend(title='Asset Manager', fontsize='large')\n",
    "plt.xticks(rotation=0)\n",
    "plt.show()\n",
    "\n",
    "quality_df.plot.bar(figsize=(12,8), fontsize='large')\n",
    "plt.title('Quality of Building by Asset Manager', fontsize='xx-large')\n",
    "plt.xlabel('Building Quality', fontsize='x-large')\n",
    "plt.ylabel('Normalized Counts (Percent)', fontsize='x-large')\n",
    "plt.legend(title='Asset Manager', fontsize='large')\n",
    "plt.xticks(rotation=0)\n",
    "plt.show()"
   ]
  },
  {
   "cell_type": "code",
   "execution_count": 39,
   "metadata": {
    "collapsed": false
   },
   "outputs": [
    {
     "data": {
      "text/html": [
       "<div>\n",
       "<table border=\"1\" class=\"dataframe\">\n",
       "  <thead>\n",
       "    <tr style=\"text-align: right;\">\n",
       "      <th></th>\n",
       "      <th>Overall satisfaction</th>\n",
       "      <th>Overall satisfaction with management</th>\n",
       "      <th>Quality of building</th>\n",
       "    </tr>\n",
       "    <tr>\n",
       "      <th>Asset Manager</th>\n",
       "      <th></th>\n",
       "      <th></th>\n",
       "      <th></th>\n",
       "    </tr>\n",
       "  </thead>\n",
       "  <tbody>\n",
       "    <tr>\n",
       "      <th>Fredrick Sanders</th>\n",
       "      <td>3.984252</td>\n",
       "      <td>4.131148</td>\n",
       "      <td>3.790000</td>\n",
       "    </tr>\n",
       "    <tr>\n",
       "      <th>Jennifer Fortson</th>\n",
       "      <td>3.684211</td>\n",
       "      <td>3.822222</td>\n",
       "      <td>3.953125</td>\n",
       "    </tr>\n",
       "    <tr>\n",
       "      <th>Jonathan Smith</th>\n",
       "      <td>3.922680</td>\n",
       "      <td>4.137566</td>\n",
       "      <td>3.828571</td>\n",
       "    </tr>\n",
       "    <tr>\n",
       "      <th>Kathy Rodriguez</th>\n",
       "      <td>3.960870</td>\n",
       "      <td>4.172093</td>\n",
       "      <td>4.097143</td>\n",
       "    </tr>\n",
       "    <tr>\n",
       "      <th>Peter Kiernon</th>\n",
       "      <td>3.955307</td>\n",
       "      <td>4.100000</td>\n",
       "      <td>3.910828</td>\n",
       "    </tr>\n",
       "    <tr>\n",
       "      <th>Suzanne Michaels</th>\n",
       "      <td>3.992126</td>\n",
       "      <td>4.169355</td>\n",
       "      <td>3.914286</td>\n",
       "    </tr>\n",
       "  </tbody>\n",
       "</table>\n",
       "</div>"
      ],
      "text/plain": [
       "                  Overall satisfaction  Overall satisfaction with management  \\\n",
       "Asset Manager                                                                  \n",
       "Fredrick Sanders              3.984252                              4.131148   \n",
       "Jennifer Fortson              3.684211                              3.822222   \n",
       "Jonathan Smith                3.922680                              4.137566   \n",
       "Kathy Rodriguez               3.960870                              4.172093   \n",
       "Peter Kiernon                 3.955307                              4.100000   \n",
       "Suzanne Michaels              3.992126                              4.169355   \n",
       "\n",
       "                  Quality of building  \n",
       "Asset Manager                          \n",
       "Fredrick Sanders             3.790000  \n",
       "Jennifer Fortson             3.953125  \n",
       "Jonathan Smith               3.828571  \n",
       "Kathy Rodriguez              4.097143  \n",
       "Peter Kiernon                3.910828  \n",
       "Suzanne Michaels             3.914286  "
      ]
     },
     "execution_count": 39,
     "metadata": {},
     "output_type": "execute_result"
    }
   ],
   "source": [
    "portfolios = df.groupby('Asset Manager')[key_columns].mean()\n",
    "portfolios"
   ]
  },
  {
   "cell_type": "code",
   "execution_count": 40,
   "metadata": {
    "collapsed": false
   },
   "outputs": [
    {
     "data": {
      "text/html": [
       "<div>\n",
       "<table border=\"1\" class=\"dataframe\">\n",
       "  <thead>\n",
       "    <tr style=\"text-align: right;\">\n",
       "      <th></th>\n",
       "      <th>Overall satisfaction</th>\n",
       "      <th>Overall satisfaction with management</th>\n",
       "      <th>Quality of building</th>\n",
       "    </tr>\n",
       "    <tr>\n",
       "      <th>Asset Manager</th>\n",
       "      <th></th>\n",
       "      <th></th>\n",
       "      <th></th>\n",
       "    </tr>\n",
       "  </thead>\n",
       "  <tbody>\n",
       "    <tr>\n",
       "      <th>Fredrick Sanders</th>\n",
       "      <td>3.984252</td>\n",
       "      <td>4.131148</td>\n",
       "      <td>3.790000</td>\n",
       "    </tr>\n",
       "    <tr>\n",
       "      <th>Jennifer Fortson</th>\n",
       "      <td>3.684211</td>\n",
       "      <td>3.822222</td>\n",
       "      <td>3.953125</td>\n",
       "    </tr>\n",
       "    <tr>\n",
       "      <th>Jonathan Smith</th>\n",
       "      <td>3.922680</td>\n",
       "      <td>4.137566</td>\n",
       "      <td>3.828571</td>\n",
       "    </tr>\n",
       "    <tr>\n",
       "      <th>Kathy Rodriguez</th>\n",
       "      <td>3.960870</td>\n",
       "      <td>4.172093</td>\n",
       "      <td>4.097143</td>\n",
       "    </tr>\n",
       "    <tr>\n",
       "      <th>Peter Kiernon</th>\n",
       "      <td>3.955307</td>\n",
       "      <td>4.100000</td>\n",
       "      <td>3.910828</td>\n",
       "    </tr>\n",
       "    <tr>\n",
       "      <th>Suzanne Michaels</th>\n",
       "      <td>3.992126</td>\n",
       "      <td>4.169355</td>\n",
       "      <td>3.914286</td>\n",
       "    </tr>\n",
       "    <tr>\n",
       "      <th>Portfolio Averages</th>\n",
       "      <td>3.909265</td>\n",
       "      <td>4.085000</td>\n",
       "      <td>3.927126</td>\n",
       "    </tr>\n",
       "  </tbody>\n",
       "</table>\n",
       "</div>"
      ],
      "text/plain": [
       "                    Overall satisfaction  \\\n",
       "Asset Manager                              \n",
       "Fredrick Sanders                3.984252   \n",
       "Jennifer Fortson                3.684211   \n",
       "Jonathan Smith                  3.922680   \n",
       "Kathy Rodriguez                 3.960870   \n",
       "Peter Kiernon                   3.955307   \n",
       "Suzanne Michaels                3.992126   \n",
       "Portfolio Averages              3.909265   \n",
       "\n",
       "                    Overall satisfaction with management  Quality of building  \n",
       "Asset Manager                                                                  \n",
       "Fredrick Sanders                                4.131148             3.790000  \n",
       "Jennifer Fortson                                3.822222             3.953125  \n",
       "Jonathan Smith                                  4.137566             3.828571  \n",
       "Kathy Rodriguez                                 4.172093             4.097143  \n",
       "Peter Kiernon                                   4.100000             3.910828  \n",
       "Suzanne Michaels                                4.169355             3.914286  \n",
       "Portfolio Averages                              4.085000             3.927126  "
      ]
     },
     "execution_count": 40,
     "metadata": {},
     "output_type": "execute_result"
    }
   ],
   "source": [
    "portfolios = portfolios.append(df[key_columns].mean().rename('Portfolio Averages'), 0)\n",
    "portfolios"
   ]
  },
  {
   "cell_type": "markdown",
   "metadata": {},
   "source": [
    "# b. Which Asset Managers have the highest score for each question? "
   ]
  },
  {
   "cell_type": "code",
   "execution_count": 41,
   "metadata": {
    "collapsed": false
   },
   "outputs": [
    {
     "name": "stdout",
     "output_type": "stream",
     "text": [
      "Asset Managers with highest score for each question:\n"
     ]
    },
    {
     "data": {
      "text/plain": [
       "Overall satisfaction                    Suzanne Michaels\n",
       "Overall satisfaction with management     Kathy Rodriguez\n",
       "Quality of building                      Kathy Rodriguez\n",
       "dtype: object"
      ]
     },
     "execution_count": 41,
     "metadata": {},
     "output_type": "execute_result"
    }
   ],
   "source": [
    "print('Asset Managers with highest score for each question:')\n",
    "portfolios.idxmax()"
   ]
  },
  {
   "cell_type": "markdown",
   "metadata": {},
   "source": [
    "# c. What percentage of Suzanne Michaels' office tenants are \"\"satisfied\"\" overall (a 4 or 5 on the 5-point scale)?\"\t"
   ]
  },
  {
   "cell_type": "code",
   "execution_count": 42,
   "metadata": {
    "collapsed": true
   },
   "outputs": [],
   "source": [
    "suzanne = df[df['Asset Manager']=='Suzanne Michaels']"
   ]
  },
  {
   "cell_type": "code",
   "execution_count": 43,
   "metadata": {
    "collapsed": false
   },
   "outputs": [],
   "source": [
    "satisfied_by_suzanne = suzanne[(suzanne['Overall satisfaction'] == 4) | (suzanne['Overall satisfaction'] == 5)]"
   ]
  },
  {
   "cell_type": "code",
   "execution_count": 44,
   "metadata": {
    "collapsed": false
   },
   "outputs": [
    {
     "name": "stdout",
     "output_type": "stream",
     "text": [
      "Percent of Suzanne Michaels' office tennats that are satisfied overall:\n"
     ]
    },
    {
     "data": {
      "text/plain": [
       "81.10236220472441"
      ]
     },
     "execution_count": 44,
     "metadata": {},
     "output_type": "execute_result"
    }
   ],
   "source": [
    "print(\"Percent of Suzanne Michaels' office tennats that are satisfied overall:\")\n",
    "satisfied_by_suzanne.shape[0] / suzanne.shape[0] * 100"
   ]
  },
  {
   "cell_type": "markdown",
   "metadata": {},
   "source": [
    "# \"For parts a and b, only include tenants who answered both the \"\"current\"\" and \"\"preferred\"\" contact questions."
   ]
  },
  {
   "cell_type": "code",
   "execution_count": 45,
   "metadata": {
    "collapsed": true
   },
   "outputs": [],
   "source": [
    "contact_columns = ['Current Proactive Contact', 'Preferred Proactive Contact']"
   ]
  },
  {
   "cell_type": "code",
   "execution_count": 46,
   "metadata": {
    "collapsed": false
   },
   "outputs": [
    {
     "name": "stdout",
     "output_type": "stream",
     "text": [
      "Removing entries that have a null value in at least one of the columns in question.\n"
     ]
    }
   ],
   "source": [
    "print('Removing entries that have a null value in at least one of the columns in question.')\n",
    "answered_both = df[df[contact_columns].notnull().any(1)]"
   ]
  },
  {
   "cell_type": "code",
   "execution_count": 47,
   "metadata": {
    "collapsed": false
   },
   "outputs": [
    {
     "name": "stdout",
     "output_type": "stream",
     "text": [
      "Unique values for Current Proactive Contact\n"
     ]
    },
    {
     "data": {
      "text/plain": [
       "['1 / month', '1 / quarter', 'Never', '1 / week', '2x / year']"
      ]
     },
     "execution_count": 47,
     "metadata": {},
     "output_type": "execute_result"
    }
   ],
   "source": [
    "print('Unique values for Current Proactive Contact')\n",
    "[x for x in answered_both['Current Proactive Contact'].unique()]"
   ]
  },
  {
   "cell_type": "code",
   "execution_count": 48,
   "metadata": {
    "collapsed": false
   },
   "outputs": [
    {
     "name": "stdout",
     "output_type": "stream",
     "text": [
      "Unique values for Preferred Proactive Contact\n"
     ]
    },
    {
     "data": {
      "text/plain": [
       "['1 / month', '1 / quarter', '1 / week', '2x / year']"
      ]
     },
     "execution_count": 48,
     "metadata": {},
     "output_type": "execute_result"
    }
   ],
   "source": [
    "print('Unique values for Preferred Proactive Contact')\n",
    "[x for x in answered_both['Preferred Proactive Contact'].unique()]"
   ]
  },
  {
   "cell_type": "code",
   "execution_count": 49,
   "metadata": {
    "collapsed": false
   },
   "outputs": [
    {
     "data": {
      "text/html": [
       "<div>\n",
       "<table border=\"1\" class=\"dataframe\">\n",
       "  <thead>\n",
       "    <tr style=\"text-align: right;\">\n",
       "      <th></th>\n",
       "      <th>Current Proactive Contact</th>\n",
       "      <th>Preferred Proactive Contact</th>\n",
       "    </tr>\n",
       "  </thead>\n",
       "  <tbody>\n",
       "    <tr>\n",
       "      <th>0</th>\n",
       "      <td>1 / month</td>\n",
       "      <td>1 / month</td>\n",
       "    </tr>\n",
       "    <tr>\n",
       "      <th>1</th>\n",
       "      <td>1 / quarter</td>\n",
       "      <td>1 / quarter</td>\n",
       "    </tr>\n",
       "    <tr>\n",
       "      <th>2</th>\n",
       "      <td>Never</td>\n",
       "      <td>1 / quarter</td>\n",
       "    </tr>\n",
       "  </tbody>\n",
       "</table>\n",
       "</div>"
      ],
      "text/plain": [
       "  Current Proactive Contact Preferred Proactive Contact\n",
       "0                 1 / month                   1 / month\n",
       "1               1 / quarter                 1 / quarter\n",
       "2                     Never                 1 / quarter"
      ]
     },
     "execution_count": 49,
     "metadata": {},
     "output_type": "execute_result"
    }
   ],
   "source": [
    "answered_both[contact_columns].head(3)"
   ]
  },
  {
   "cell_type": "markdown",
   "metadata": {},
   "source": [
    "Since the values in these two columns are categorical, I decided to use a contact dictionary to map the contact frequencies to numeric values to make comparisons between them easy. The inverse contact dictionary is to change the values back to normal."
   ]
  },
  {
   "cell_type": "code",
   "execution_count": 50,
   "metadata": {
    "collapsed": false
   },
   "outputs": [],
   "source": [
    "contact_dict = {'Never':0,\n",
    "               '2x / year':1,\n",
    "               '1 / quarter':2,\n",
    "               '1 / month':3,\n",
    "               '1 / week':4}\n",
    "\n",
    "inv_contact_dict = {v: k for k, v in contact_dict.items()}\n",
    "\n",
    "pd.options.mode.chained_assignment = None"
   ]
  },
  {
   "cell_type": "code",
   "execution_count": 51,
   "metadata": {
    "collapsed": false
   },
   "outputs": [],
   "source": [
    "answered_both[contact_columns] = answered_both[contact_columns].replace(contact_dict)"
   ]
  },
  {
   "cell_type": "code",
   "execution_count": 52,
   "metadata": {
    "collapsed": false
   },
   "outputs": [
    {
     "data": {
      "text/html": [
       "<div>\n",
       "<table border=\"1\" class=\"dataframe\">\n",
       "  <thead>\n",
       "    <tr style=\"text-align: right;\">\n",
       "      <th></th>\n",
       "      <th>Current Proactive Contact</th>\n",
       "      <th>Preferred Proactive Contact</th>\n",
       "    </tr>\n",
       "  </thead>\n",
       "  <tbody>\n",
       "    <tr>\n",
       "      <th>0</th>\n",
       "      <td>3</td>\n",
       "      <td>3</td>\n",
       "    </tr>\n",
       "    <tr>\n",
       "      <th>1</th>\n",
       "      <td>2</td>\n",
       "      <td>2</td>\n",
       "    </tr>\n",
       "    <tr>\n",
       "      <th>2</th>\n",
       "      <td>0</td>\n",
       "      <td>2</td>\n",
       "    </tr>\n",
       "  </tbody>\n",
       "</table>\n",
       "</div>"
      ],
      "text/plain": [
       "   Current Proactive Contact  Preferred Proactive Contact\n",
       "0                          3                            3\n",
       "1                          2                            2\n",
       "2                          0                            2"
      ]
     },
     "execution_count": 52,
     "metadata": {},
     "output_type": "execute_result"
    }
   ],
   "source": [
    "answered_both[contact_columns].head(3)"
   ]
  },
  {
   "cell_type": "markdown",
   "metadata": {},
   "source": [
    "# 3a. Provide a list of tenants who indicate they \"\"prefer\"\" to be contacted more frequently than they \"\"currently\"\" are. In that list, include columns for both their \"\"current\"\" and \"\"preferred\"\" levels of contact as well as their \"\"property type,\"\" lease expiration date and square footage. "
   ]
  },
  {
   "cell_type": "markdown",
   "metadata": {},
   "source": [
    "Now with the values mapped to numerics, it is possible to find tenants who prefer to be contacted more frequently than currently."
   ]
  },
  {
   "cell_type": "code",
   "execution_count": 53,
   "metadata": {
    "collapsed": false
   },
   "outputs": [],
   "source": [
    "more_frequently = answered_both[answered_both['Preferred Proactive Contact'] > answered_both['Current Proactive Contact']]"
   ]
  },
  {
   "cell_type": "code",
   "execution_count": 54,
   "metadata": {
    "collapsed": false
   },
   "outputs": [
    {
     "data": {
      "text/html": [
       "<div>\n",
       "<table border=\"1\" class=\"dataframe\">\n",
       "  <thead>\n",
       "    <tr style=\"text-align: right;\">\n",
       "      <th></th>\n",
       "      <th>Current Proactive Contact</th>\n",
       "      <th>Preferred Proactive Contact</th>\n",
       "    </tr>\n",
       "  </thead>\n",
       "  <tbody>\n",
       "    <tr>\n",
       "      <th>2</th>\n",
       "      <td>0</td>\n",
       "      <td>2</td>\n",
       "    </tr>\n",
       "    <tr>\n",
       "      <th>3</th>\n",
       "      <td>0</td>\n",
       "      <td>2</td>\n",
       "    </tr>\n",
       "    <tr>\n",
       "      <th>7</th>\n",
       "      <td>0</td>\n",
       "      <td>2</td>\n",
       "    </tr>\n",
       "    <tr>\n",
       "      <th>15</th>\n",
       "      <td>3</td>\n",
       "      <td>4</td>\n",
       "    </tr>\n",
       "    <tr>\n",
       "      <th>17</th>\n",
       "      <td>1</td>\n",
       "      <td>2</td>\n",
       "    </tr>\n",
       "  </tbody>\n",
       "</table>\n",
       "</div>"
      ],
      "text/plain": [
       "    Current Proactive Contact  Preferred Proactive Contact\n",
       "2                           0                            2\n",
       "3                           0                            2\n",
       "7                           0                            2\n",
       "15                          3                            4\n",
       "17                          1                            2"
      ]
     },
     "execution_count": 54,
     "metadata": {},
     "output_type": "execute_result"
    }
   ],
   "source": [
    "more_frequently[contact_columns].head()"
   ]
  },
  {
   "cell_type": "code",
   "execution_count": 55,
   "metadata": {
    "collapsed": false
   },
   "outputs": [
    {
     "data": {
      "text/html": [
       "<div>\n",
       "<table border=\"1\" class=\"dataframe\">\n",
       "  <thead>\n",
       "    <tr style=\"text-align: right;\">\n",
       "      <th></th>\n",
       "      <th>Current Proactive Contact</th>\n",
       "      <th>Preferred Proactive Contact</th>\n",
       "    </tr>\n",
       "  </thead>\n",
       "  <tbody>\n",
       "    <tr>\n",
       "      <th>2</th>\n",
       "      <td>Never</td>\n",
       "      <td>1 / quarter</td>\n",
       "    </tr>\n",
       "    <tr>\n",
       "      <th>3</th>\n",
       "      <td>Never</td>\n",
       "      <td>1 / quarter</td>\n",
       "    </tr>\n",
       "    <tr>\n",
       "      <th>7</th>\n",
       "      <td>Never</td>\n",
       "      <td>1 / quarter</td>\n",
       "    </tr>\n",
       "    <tr>\n",
       "      <th>15</th>\n",
       "      <td>1 / month</td>\n",
       "      <td>1 / week</td>\n",
       "    </tr>\n",
       "    <tr>\n",
       "      <th>17</th>\n",
       "      <td>2x / year</td>\n",
       "      <td>1 / quarter</td>\n",
       "    </tr>\n",
       "  </tbody>\n",
       "</table>\n",
       "</div>"
      ],
      "text/plain": [
       "   Current Proactive Contact Preferred Proactive Contact\n",
       "2                      Never                 1 / quarter\n",
       "3                      Never                 1 / quarter\n",
       "7                      Never                 1 / quarter\n",
       "15                 1 / month                    1 / week\n",
       "17                 2x / year                 1 / quarter"
      ]
     },
     "execution_count": 55,
     "metadata": {},
     "output_type": "execute_result"
    }
   ],
   "source": [
    "more_frequently[contact_columns] = more_frequently[contact_columns].replace(inv_contact_dict)\n",
    "more_frequently[contact_columns].head()"
   ]
  },
  {
   "cell_type": "code",
   "execution_count": 56,
   "metadata": {
    "collapsed": false
   },
   "outputs": [
    {
     "data": {
      "text/html": [
       "<div>\n",
       "<table border=\"1\" class=\"dataframe\">\n",
       "  <thead>\n",
       "    <tr style=\"text-align: right;\">\n",
       "      <th></th>\n",
       "      <th>Tenant ID #</th>\n",
       "      <th>Property Type</th>\n",
       "      <th>Lease Expiration</th>\n",
       "      <th>Square Footage</th>\n",
       "      <th>Current Proactive Contact</th>\n",
       "      <th>Preferred Proactive Contact</th>\n",
       "    </tr>\n",
       "  </thead>\n",
       "  <tbody>\n",
       "    <tr>\n",
       "      <th>2</th>\n",
       "      <td>326952</td>\n",
       "      <td>Industrial</td>\n",
       "      <td>2010-09-30</td>\n",
       "      <td>19971</td>\n",
       "      <td>Never</td>\n",
       "      <td>1 / quarter</td>\n",
       "    </tr>\n",
       "    <tr>\n",
       "      <th>3</th>\n",
       "      <td>326953</td>\n",
       "      <td>Industrial</td>\n",
       "      <td>2010-07-31</td>\n",
       "      <td>19087</td>\n",
       "      <td>Never</td>\n",
       "      <td>1 / quarter</td>\n",
       "    </tr>\n",
       "    <tr>\n",
       "      <th>7</th>\n",
       "      <td>290437</td>\n",
       "      <td>Industrial</td>\n",
       "      <td>NaT</td>\n",
       "      <td>110502</td>\n",
       "      <td>Never</td>\n",
       "      <td>1 / quarter</td>\n",
       "    </tr>\n",
       "    <tr>\n",
       "      <th>15</th>\n",
       "      <td>281441</td>\n",
       "      <td>Industrial</td>\n",
       "      <td>2014-06-30</td>\n",
       "      <td>167106</td>\n",
       "      <td>1 / month</td>\n",
       "      <td>1 / week</td>\n",
       "    </tr>\n",
       "    <tr>\n",
       "      <th>17</th>\n",
       "      <td>281443</td>\n",
       "      <td>Industrial</td>\n",
       "      <td>2010-10-31</td>\n",
       "      <td>83000</td>\n",
       "      <td>2x / year</td>\n",
       "      <td>1 / quarter</td>\n",
       "    </tr>\n",
       "  </tbody>\n",
       "</table>\n",
       "</div>"
      ],
      "text/plain": [
       "    Tenant ID # Property Type Lease Expiration  Square Footage  \\\n",
       "2        326952    Industrial       2010-09-30           19971   \n",
       "3        326953    Industrial       2010-07-31           19087   \n",
       "7        290437    Industrial              NaT          110502   \n",
       "15       281441    Industrial       2014-06-30          167106   \n",
       "17       281443    Industrial       2010-10-31           83000   \n",
       "\n",
       "   Current Proactive Contact Preferred Proactive Contact  \n",
       "2                      Never                 1 / quarter  \n",
       "3                      Never                 1 / quarter  \n",
       "7                      Never                 1 / quarter  \n",
       "15                 1 / month                    1 / week  \n",
       "17                 2x / year                 1 / quarter  "
      ]
     },
     "execution_count": 56,
     "metadata": {},
     "output_type": "execute_result"
    }
   ],
   "source": [
    "more_frequently[['Tenant ID #', 'Property Type', 'Lease Expiration', 'Square Footage', 'Current Proactive Contact', 'Preferred Proactive Contact']].head()"
   ]
  },
  {
   "cell_type": "code",
   "execution_count": 57,
   "metadata": {
    "collapsed": false
   },
   "outputs": [
    {
     "name": "stdout",
     "output_type": "stream",
     "text": [
      "The number of tenants who prefer to be contacted more frequently: 363\n"
     ]
    }
   ],
   "source": [
    "# Actual number of rows\n",
    "print('The number of tenants who prefer to be contacted more frequently: {}'.format(more_frequently.shape[0]))"
   ]
  },
  {
   "cell_type": "markdown",
   "metadata": {},
   "source": [
    "# b. For each property type, what percentage of tenants \"\"prefer\"\" to be contacted more frequently than they \"\"currently\"\" are? \t\t\t"
   ]
  },
  {
   "cell_type": "code",
   "execution_count": 58,
   "metadata": {
    "collapsed": false
   },
   "outputs": [
    {
     "name": "stdout",
     "output_type": "stream",
     "text": [
      "Total counts of all tenants by property types:\n"
     ]
    },
    {
     "data": {
      "text/plain": [
       "Office        544\n",
       "Industrial    263\n",
       "Retail        249\n",
       "Name: Property Type, dtype: int64"
      ]
     },
     "execution_count": 58,
     "metadata": {},
     "output_type": "execute_result"
    }
   ],
   "source": [
    "print('Total counts of all tenants by property types:')\n",
    "df['Property Type'].value_counts()"
   ]
  },
  {
   "cell_type": "code",
   "execution_count": 59,
   "metadata": {
    "collapsed": false
   },
   "outputs": [
    {
     "name": "stdout",
     "output_type": "stream",
     "text": [
      "Tenants by property type who wish to be contacted more frequently:\n"
     ]
    },
    {
     "data": {
      "text/plain": [
       "Office        166\n",
       "Retail        102\n",
       "Industrial     95\n",
       "Name: Property Type, dtype: int64"
      ]
     },
     "execution_count": 59,
     "metadata": {},
     "output_type": "execute_result"
    }
   ],
   "source": [
    "print('Tenants by property type who wish to be contacted more frequently:')\n",
    "more_frequently['Property Type'].value_counts()"
   ]
  },
  {
   "cell_type": "code",
   "execution_count": 60,
   "metadata": {
    "collapsed": false
   },
   "outputs": [
    {
     "name": "stdout",
     "output_type": "stream",
     "text": [
      "Percent of tenants by property type who prefer to be contacted more frequently than they are currently:\n"
     ]
    },
    {
     "data": {
      "text/plain": [
       "Industrial    36.121673\n",
       "Office        30.514706\n",
       "Retail        40.963855\n",
       "Name: Property Type, dtype: float64"
      ]
     },
     "execution_count": 60,
     "metadata": {},
     "output_type": "execute_result"
    }
   ],
   "source": [
    "print('Percent of tenants by property type who prefer to be contacted more frequently than they are currently:')\n",
    "more_frequently['Property Type'].value_counts()/df['Property Type'].value_counts()*100"
   ]
  },
  {
   "cell_type": "markdown",
   "metadata": {
    "collapsed": true
   },
   "source": [
    "# c. What is the count of industrial tenants who \"\"prefer\"\" to be contacted at least once a quarter (i.e., quarterly or more frequently)? "
   ]
  },
  {
   "cell_type": "code",
   "execution_count": 61,
   "metadata": {
    "collapsed": false
   },
   "outputs": [
    {
     "data": {
      "text/plain": [
       "['1 / month', '1 / quarter', '1 / week', '2x / year', nan]"
      ]
     },
     "execution_count": 61,
     "metadata": {},
     "output_type": "execute_result"
    }
   ],
   "source": [
    "[x for x in df['Preferred Proactive Contact'].unique()]"
   ]
  },
  {
   "cell_type": "code",
   "execution_count": 62,
   "metadata": {
    "collapsed": false
   },
   "outputs": [],
   "source": [
    "ind_q_and_more = industrial[(industrial['Preferred Proactive Contact']=='1 / quarter') | \n",
    "                            (industrial['Preferred Proactive Contact']=='1 / month') |\n",
    "                            (industrial['Preferred Proactive Contact']=='1 / week')]"
   ]
  },
  {
   "cell_type": "code",
   "execution_count": 63,
   "metadata": {
    "collapsed": false
   },
   "outputs": [
    {
     "name": "stdout",
     "output_type": "stream",
     "text": [
      "The count of industrial tenants who prefer to be contacted at least once a quarter:\n"
     ]
    },
    {
     "data": {
      "text/plain": [
       "200"
      ]
     },
     "execution_count": 63,
     "metadata": {},
     "output_type": "execute_result"
    }
   ],
   "source": [
    "print('The count of industrial tenants who prefer to be contacted at least once a quarter:')\n",
    "ind_q_and_more.shape[0]"
   ]
  },
  {
   "cell_type": "markdown",
   "metadata": {},
   "source": [
    "# d. What percentage of retail square footage is represented by tenants who \"\"prefer\"\" to be contacted exactly once a week?\"\t\t\t\t\t\t\t\t"
   ]
  },
  {
   "cell_type": "code",
   "execution_count": 64,
   "metadata": {
    "collapsed": false
   },
   "outputs": [
    {
     "name": "stdout",
     "output_type": "stream",
     "text": [
      "Total square footage in retail:\n"
     ]
    },
    {
     "data": {
      "text/plain": [
       "1672074"
      ]
     },
     "execution_count": 64,
     "metadata": {},
     "output_type": "execute_result"
    }
   ],
   "source": [
    "print('Total square footage in retail:')\n",
    "df[df['Property Type']=='Retail']['Square Footage'].sum()"
   ]
  },
  {
   "cell_type": "code",
   "execution_count": 65,
   "metadata": {
    "collapsed": true
   },
   "outputs": [],
   "source": [
    "retail = df[df['Property Type']=='Retail']"
   ]
  },
  {
   "cell_type": "code",
   "execution_count": 66,
   "metadata": {
    "collapsed": false
   },
   "outputs": [
    {
     "data": {
      "text/html": [
       "<div>\n",
       "<table border=\"1\" class=\"dataframe\">\n",
       "  <thead>\n",
       "    <tr style=\"text-align: right;\">\n",
       "      <th></th>\n",
       "      <th>Tenant ID #</th>\n",
       "      <th>Property Type</th>\n",
       "      <th>Preferred Proactive Contact</th>\n",
       "      <th>Current Proactive Contact</th>\n",
       "    </tr>\n",
       "  </thead>\n",
       "  <tbody>\n",
       "    <tr>\n",
       "      <th>104</th>\n",
       "      <td>282944</td>\n",
       "      <td>Retail</td>\n",
       "      <td>1 / week</td>\n",
       "      <td>1 / month</td>\n",
       "    </tr>\n",
       "    <tr>\n",
       "      <th>299</th>\n",
       "      <td>282748</td>\n",
       "      <td>Retail</td>\n",
       "      <td>1 / week</td>\n",
       "      <td>Never</td>\n",
       "    </tr>\n",
       "    <tr>\n",
       "      <th>381</th>\n",
       "      <td>282314</td>\n",
       "      <td>Retail</td>\n",
       "      <td>1 / week</td>\n",
       "      <td>Never</td>\n",
       "    </tr>\n",
       "    <tr>\n",
       "      <th>391</th>\n",
       "      <td>282345</td>\n",
       "      <td>Retail</td>\n",
       "      <td>1 / week</td>\n",
       "      <td>Never</td>\n",
       "    </tr>\n",
       "    <tr>\n",
       "      <th>410</th>\n",
       "      <td>282550</td>\n",
       "      <td>Retail</td>\n",
       "      <td>1 / week</td>\n",
       "      <td>1 / week</td>\n",
       "    </tr>\n",
       "    <tr>\n",
       "      <th>468</th>\n",
       "      <td>282601</td>\n",
       "      <td>Retail</td>\n",
       "      <td>1 / week</td>\n",
       "      <td>1 / week</td>\n",
       "    </tr>\n",
       "  </tbody>\n",
       "</table>\n",
       "</div>"
      ],
      "text/plain": [
       "     Tenant ID # Property Type Preferred Proactive Contact  \\\n",
       "104       282944        Retail                    1 / week   \n",
       "299       282748        Retail                    1 / week   \n",
       "381       282314        Retail                    1 / week   \n",
       "391       282345        Retail                    1 / week   \n",
       "410       282550        Retail                    1 / week   \n",
       "468       282601        Retail                    1 / week   \n",
       "\n",
       "    Current Proactive Contact  \n",
       "104                 1 / month  \n",
       "299                     Never  \n",
       "381                     Never  \n",
       "391                     Never  \n",
       "410                  1 / week  \n",
       "468                  1 / week  "
      ]
     },
     "execution_count": 66,
     "metadata": {},
     "output_type": "execute_result"
    }
   ],
   "source": [
    "retail_week = retail[retail['Preferred Proactive Contact']=='1 / week']\n",
    "retail_week[['Tenant ID #', 'Property Type', 'Preferred Proactive Contact', 'Current Proactive Contact']]"
   ]
  },
  {
   "cell_type": "code",
   "execution_count": 67,
   "metadata": {
    "collapsed": false
   },
   "outputs": [
    {
     "name": "stdout",
     "output_type": "stream",
     "text": [
      "Percent of retail square footage represented by tenants who prefer to be contacted exactly once a week:\n"
     ]
    },
    {
     "data": {
      "text/plain": [
       "2.1475724160533565"
      ]
     },
     "execution_count": 67,
     "metadata": {},
     "output_type": "execute_result"
    }
   ],
   "source": [
    "print('Percent of retail square footage represented by tenants who prefer to be contacted exactly once a week:')\n",
    "retail_week['Square Footage'].sum() / df[df['Property Type']=='Retail']['Square Footage'].sum() * 100"
   ]
  },
  {
   "cell_type": "code",
   "execution_count": 68,
   "metadata": {
    "collapsed": false
   },
   "outputs": [
    {
     "data": {
      "image/png": "[encoded data removed]",
      "text/plain": [
       "<matplotlib.figure.Figure at 0x284ae206898>"
      ]
     },
     "metadata": {},
     "output_type": "display_data"
    }
   ],
   "source": [
    "df.boxplot(column='Square Footage', by='Property Type', figsize=(12,8), showfliers=False)\n",
    "plt.title('Square Footage by Property Type (Outliers Not Shown)', fontsize='xx-large')\n",
    "plt.suptitle('')\n",
    "plt.ylabel('Square Footage', fontsize='x-large')\n",
    "plt.xlabel('Property Type', fontsize='x-large')\n",
    "plt.xticks(fontsize='large')\n",
    "plt.show()"
   ]
  }
 ],
 "metadata": {
  "kernelspec": {
   "display_name": "Python 3",
   "language": "python",
   "name": "python3"
  },
  "language_info": {
   "codemirror_mode": {
    "name": "ipython",
    "version": 3
   },
   "file_extension": ".py",
   "mimetype": "text/x-python",
   "name": "python",
   "nbconvert_exporter": "python",
   "pygments_lexer": "ipython3",
   "version": "3.6.0"
  }
 },
 "nbformat": 4,
 "nbformat_minor": 2
}
